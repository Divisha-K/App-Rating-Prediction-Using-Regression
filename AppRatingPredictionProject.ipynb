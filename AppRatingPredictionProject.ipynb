{
 "cells": [
  {
   "cell_type": "markdown",
   "id": "06265b30",
   "metadata": {},
   "source": [
    "# **APP RATING PREDICTION USING LINEAR REGRESSION**\n",
    "\n"
   ]
  },
  {
   "cell_type": "code",
   "execution_count": null,
   "id": "efd94b6d",
   "metadata": {},
   "outputs": [],
   "source": [
    "Loading Libraries"
   ]
  },
  {
   "cell_type": "code",
   "execution_count": 1,
   "id": "38603f9c",
   "metadata": {},
   "outputs": [],
   "source": [
    "import pandas as pd\n",
    "import numpy as np\n",
    "import matplotlib.pyplot as plt\n",
    "import seaborn as sns\n"
   ]
  },
  {
   "cell_type": "markdown",
   "id": "42ea9876",
   "metadata": {},
   "source": [
    "1. loading dataset.."
   ]
  },
  {
   "cell_type": "code",
   "execution_count": 2,
   "id": "7f4e7ce4",
   "metadata": {},
   "outputs": [],
   "source": [
    "df=pd.read_csv('googleplaystore.csv')"
   ]
  },
  {
   "cell_type": "markdown",
   "id": "4d1e4770",
   "metadata": {},
   "source": [
    "2. First we need to check for null values in the data and get the number of null values for each column."
   ]
  },
  {
   "cell_type": "code",
   "execution_count": 3,
   "id": "26e41bea",
   "metadata": {},
   "outputs": [
    {
     "data": {
      "text/plain": [
       "App                  0\n",
       "Category             0\n",
       "Rating            1474\n",
       "Reviews              0\n",
       "Size                 0\n",
       "Installs             0\n",
       "Type                 1\n",
       "Price                0\n",
       "Content Rating       1\n",
       "Genres               0\n",
       "Last Updated         0\n",
       "Current Ver          8\n",
       "Android Ver          3\n",
       "dtype: int64"
      ]
     },
     "execution_count": 3,
     "metadata": {},
     "output_type": "execute_result"
    }
   ],
   "source": [
    "df.isnull().sum()"
   ]
  },
  {
   "cell_type": "markdown",
   "id": "1e59c9fe",
   "metadata": {},
   "source": [
    "3. Dropping records with nulls in any of the columns. \n",
    "\n"
   ]
  },
  {
   "cell_type": "code",
   "execution_count": 4,
   "id": "9b9ead79",
   "metadata": {},
   "outputs": [],
   "source": [
    "df.dropna(inplace=True)"
   ]
  },
  {
   "cell_type": "code",
   "execution_count": 5,
   "id": "21e545e9",
   "metadata": {
    "scrolled": true
   },
   "outputs": [
    {
     "data": {
      "text/plain": [
       "App               0\n",
       "Category          0\n",
       "Rating            0\n",
       "Reviews           0\n",
       "Size              0\n",
       "Installs          0\n",
       "Type              0\n",
       "Price             0\n",
       "Content Rating    0\n",
       "Genres            0\n",
       "Last Updated      0\n",
       "Current Ver       0\n",
       "Android Ver       0\n",
       "dtype: int64"
      ]
     },
     "execution_count": 5,
     "metadata": {},
     "output_type": "execute_result"
    }
   ],
   "source": [
    "df.isnull().sum()"
   ]
  },
  {
   "cell_type": "code",
   "execution_count": 6,
   "id": "6e55e4d7",
   "metadata": {},
   "outputs": [
    {
     "name": "stdout",
     "output_type": "stream",
     "text": [
      "<class 'pandas.core.frame.DataFrame'>\n",
      "Int64Index: 9360 entries, 0 to 10840\n",
      "Data columns (total 13 columns):\n",
      " #   Column          Non-Null Count  Dtype  \n",
      "---  ------          --------------  -----  \n",
      " 0   App             9360 non-null   object \n",
      " 1   Category        9360 non-null   object \n",
      " 2   Rating          9360 non-null   float64\n",
      " 3   Reviews         9360 non-null   object \n",
      " 4   Size            9360 non-null   object \n",
      " 5   Installs        9360 non-null   object \n",
      " 6   Type            9360 non-null   object \n",
      " 7   Price           9360 non-null   object \n",
      " 8   Content Rating  9360 non-null   object \n",
      " 9   Genres          9360 non-null   object \n",
      " 10  Last Updated    9360 non-null   object \n",
      " 11  Current Ver     9360 non-null   object \n",
      " 12  Android Ver     9360 non-null   object \n",
      "dtypes: float64(1), object(12)\n",
      "memory usage: 1023.8+ KB\n"
     ]
    }
   ],
   "source": [
    "df.info()"
   ]
  },
  {
   "cell_type": "markdown",
   "id": "4f4b37c8",
   "metadata": {},
   "source": [
    "4. Variables seem to have incorrect type and inconsistent formatting. we need to fix them: \n",
    "\n",
    "    a. Size column has sizes in Kb as well as Mb. To analyze, let's convert these to numeric.\n",
    "\n",
    "    Extracting the numeric value from the column.\n",
    "\n",
    "    Multiplying the value by 1,000, if size is mentioned in Mb"
   ]
  },
  {
   "cell_type": "code",
   "execution_count": 7,
   "id": "063b67db",
   "metadata": {},
   "outputs": [],
   "source": [
    "df[\"Size\"].unique();"
   ]
  },
  {
   "cell_type": "code",
   "execution_count": 8,
   "id": "f7ca9b7c",
   "metadata": {},
   "outputs": [],
   "source": [
    "# replace m with blank and * by 1000\n",
    "df.iloc[:,4]=df.iloc[:,4].apply(lambda x:float(str(x).replace('M', \"\"))*1000 if \"M\" in str(x) else x)"
   ]
  },
  {
   "cell_type": "code",
   "execution_count": 9,
   "id": "0d157223",
   "metadata": {},
   "outputs": [],
   "source": [
    "df['Size']=df['Size'].apply(lambda x:float(str(x).replace('k', \"\")) if \"k\" in str(x) else x)"
   ]
  },
  {
   "cell_type": "code",
   "execution_count": 114,
   "id": "d74fa71c",
   "metadata": {},
   "outputs": [],
   "source": [
    "df['Size'];"
   ]
  },
  {
   "cell_type": "code",
   "execution_count": 11,
   "id": "9956705a",
   "metadata": {},
   "outputs": [],
   "source": [
    "df['Size']=df['Size'].apply(lambda x:float(str(x).replace('Varies with device', \"nan\")) if \"Varies with device\" in str(x) else x)"
   ]
  },
  {
   "cell_type": "code",
   "execution_count": 12,
   "id": "d9b62b80",
   "metadata": {},
   "outputs": [],
   "source": [
    "df.dropna(inplace=True)"
   ]
  },
  {
   "cell_type": "code",
   "execution_count": 13,
   "id": "1be02ad0",
   "metadata": {},
   "outputs": [],
   "source": [
    "df['Size'].unique();"
   ]
  },
  {
   "cell_type": "code",
   "execution_count": 113,
   "id": "23ca39f8",
   "metadata": {},
   "outputs": [],
   "source": [
    "df['Size'];"
   ]
  },
  {
   "cell_type": "markdown",
   "id": "aa3e90f2",
   "metadata": {},
   "source": [
    "4.b Reviews is a numeric field that is loaded as a string field. Converting it to numeric (int/float)."
   ]
  },
  {
   "cell_type": "code",
   "execution_count": 15,
   "id": "921a65b9",
   "metadata": {},
   "outputs": [],
   "source": [
    "df['Reviews']=df['Reviews'].astype('int')"
   ]
  },
  {
   "cell_type": "code",
   "execution_count": 16,
   "id": "bbbab6f8",
   "metadata": {},
   "outputs": [
    {
     "data": {
      "text/plain": [
       "0           159\n",
       "1           967\n",
       "2         87510\n",
       "3        215644\n",
       "4           967\n",
       "          ...  \n",
       "10833        44\n",
       "10834         7\n",
       "10836        38\n",
       "10837         4\n",
       "10840    398307\n",
       "Name: Reviews, Length: 7723, dtype: int32"
      ]
     },
     "execution_count": 16,
     "metadata": {},
     "output_type": "execute_result"
    }
   ],
   "source": [
    "df['Reviews']"
   ]
  },
  {
   "cell_type": "code",
   "execution_count": 17,
   "id": "d47cb19c",
   "metadata": {},
   "outputs": [],
   "source": [
    "df['Reviews']=df['Reviews'].apply(lambda x:int(x))"
   ]
  },
  {
   "cell_type": "code",
   "execution_count": 18,
   "id": "44c3defb",
   "metadata": {},
   "outputs": [
    {
     "data": {
      "text/plain": [
       "0           159\n",
       "1           967\n",
       "2         87510\n",
       "3        215644\n",
       "4           967\n",
       "          ...  \n",
       "10833        44\n",
       "10834         7\n",
       "10836        38\n",
       "10837         4\n",
       "10840    398307\n",
       "Name: Reviews, Length: 7723, dtype: int64"
      ]
     },
     "execution_count": 18,
     "metadata": {},
     "output_type": "execute_result"
    }
   ],
   "source": [
    "df['Reviews']"
   ]
  },
  {
   "cell_type": "markdown",
   "id": "61b24e4d",
   "metadata": {},
   "source": [
    "4.c. Installs field is currently stored as string and has values like 1,000,000+. \n",
    "\n",
    "    Treated 1,000,000+ as 1,000,000\n",
    "\n",
    "    removed ‘+’, ‘,’ from the field, converted it to integer"
   ]
  },
  {
   "cell_type": "code",
   "execution_count": 19,
   "id": "21b04b60",
   "metadata": {},
   "outputs": [
    {
     "data": {
      "text/plain": [
       "0            10,000+\n",
       "1           500,000+\n",
       "2         5,000,000+\n",
       "3        50,000,000+\n",
       "4           100,000+\n",
       "            ...     \n",
       "10833         1,000+\n",
       "10834           500+\n",
       "10836         5,000+\n",
       "10837           100+\n",
       "10840    10,000,000+\n",
       "Name: Installs, Length: 7723, dtype: object"
      ]
     },
     "execution_count": 19,
     "metadata": {},
     "output_type": "execute_result"
    }
   ],
   "source": [
    "df['Installs']"
   ]
  },
  {
   "cell_type": "code",
   "execution_count": 20,
   "id": "9997a497",
   "metadata": {},
   "outputs": [],
   "source": [
    "df['Installs']=df['Installs'].apply(lambda x:int(x.replace('+', \"\").replace(\",\",\"\")))"
   ]
  },
  {
   "cell_type": "code",
   "execution_count": 21,
   "id": "58774e0e",
   "metadata": {},
   "outputs": [
    {
     "data": {
      "text/plain": [
       "0           10000\n",
       "1          500000\n",
       "2         5000000\n",
       "3        50000000\n",
       "4          100000\n",
       "           ...   \n",
       "10833        1000\n",
       "10834         500\n",
       "10836        5000\n",
       "10837         100\n",
       "10840    10000000\n",
       "Name: Installs, Length: 7723, dtype: int64"
      ]
     },
     "execution_count": 21,
     "metadata": {},
     "output_type": "execute_result"
    }
   ],
   "source": [
    "df['Installs']"
   ]
  },
  {
   "cell_type": "code",
   "execution_count": 1,
   "id": "46eb6ff2",
   "metadata": {},
   "outputs": [],
   "source": [
    "#4.d Price field is a string and has $ symbol. Removed ‘$’ sign, and converted it to numeric."
   ]
  },
  {
   "cell_type": "code",
   "execution_count": 22,
   "id": "9740e1e7",
   "metadata": {},
   "outputs": [
    {
     "data": {
      "text/plain": [
       "0        0\n",
       "1        0\n",
       "2        0\n",
       "3        0\n",
       "4        0\n",
       "        ..\n",
       "10833    0\n",
       "10834    0\n",
       "10836    0\n",
       "10837    0\n",
       "10840    0\n",
       "Name: Price, Length: 7723, dtype: object"
      ]
     },
     "execution_count": 22,
     "metadata": {},
     "output_type": "execute_result"
    }
   ],
   "source": [
    "df['Price']"
   ]
  },
  {
   "cell_type": "code",
   "execution_count": 23,
   "id": "520f6d25",
   "metadata": {},
   "outputs": [],
   "source": [
    "df['Price']=df['Price'].apply(lambda x: float(x.replace(\"$\", \"\")))"
   ]
  },
  {
   "cell_type": "code",
   "execution_count": 115,
   "id": "ccd540da",
   "metadata": {},
   "outputs": [],
   "source": [
    "df['Price'];"
   ]
  },
  {
   "cell_type": "markdown",
   "id": "5a38da89",
   "metadata": {},
   "source": [
    "5. Sanity checks:\n",
    "\n",
    "    1. Average rating should be between 1 and 5 as only these values are allowed on the play store. Dropped the rows that have a value outside this range.\n",
    "\n",
    "    2. Reviews should not be more than installs as only those who installed can review the app. Found and dropped such records.\n",
    "\n",
    "    3. For free apps (type = “Free”), the price should not be >0. Dropped any such rows."
   ]
  },
  {
   "cell_type": "code",
   "execution_count": 25,
   "id": "40fa96f4",
   "metadata": {},
   "outputs": [
    {
     "data": {
      "text/plain": [
       "count    7723.000000\n",
       "mean        4.173935\n",
       "std         0.544638\n",
       "min         1.000000\n",
       "25%         4.000000\n",
       "50%         4.300000\n",
       "75%         4.500000\n",
       "max         5.000000\n",
       "Name: Rating, dtype: float64"
      ]
     },
     "execution_count": 25,
     "metadata": {},
     "output_type": "execute_result"
    }
   ],
   "source": [
    "df['Rating'].describe()"
   ]
  },
  {
   "cell_type": "code",
   "execution_count": 26,
   "id": "21bc91aa",
   "metadata": {},
   "outputs": [
    {
     "data": {
      "text/html": [
       "<div>\n",
       "<style scoped>\n",
       "    .dataframe tbody tr th:only-of-type {\n",
       "        vertical-align: middle;\n",
       "    }\n",
       "\n",
       "    .dataframe tbody tr th {\n",
       "        vertical-align: top;\n",
       "    }\n",
       "\n",
       "    .dataframe thead th {\n",
       "        text-align: right;\n",
       "    }\n",
       "</style>\n",
       "<table border=\"1\" class=\"dataframe\">\n",
       "  <thead>\n",
       "    <tr style=\"text-align: right;\">\n",
       "      <th></th>\n",
       "      <th>App</th>\n",
       "      <th>Category</th>\n",
       "      <th>Rating</th>\n",
       "      <th>Reviews</th>\n",
       "      <th>Size</th>\n",
       "      <th>Installs</th>\n",
       "      <th>Type</th>\n",
       "      <th>Price</th>\n",
       "      <th>Content Rating</th>\n",
       "      <th>Genres</th>\n",
       "      <th>Last Updated</th>\n",
       "      <th>Current Ver</th>\n",
       "      <th>Android Ver</th>\n",
       "    </tr>\n",
       "  </thead>\n",
       "  <tbody>\n",
       "  </tbody>\n",
       "</table>\n",
       "</div>"
      ],
      "text/plain": [
       "Empty DataFrame\n",
       "Columns: [App, Category, Rating, Reviews, Size, Installs, Type, Price, Content Rating, Genres, Last Updated, Current Ver, Android Ver]\n",
       "Index: []"
      ]
     },
     "execution_count": 26,
     "metadata": {},
     "output_type": "execute_result"
    }
   ],
   "source": [
    "df[(df['Rating']<1) | (df['Rating']>5)]"
   ]
  },
  {
   "cell_type": "markdown",
   "id": "dc37862f",
   "metadata": {},
   "source": [
    "Reviews should not be more than installs as only those who installed can review the app. If there are any such records, dropped them.\n",
    "\n",
    "For free apps (type = “Free”), the price should not be >0. Dropped any such rows."
   ]
  },
  {
   "cell_type": "code",
   "execution_count": 27,
   "id": "660ce48a",
   "metadata": {},
   "outputs": [
    {
     "data": {
      "text/plain": [
       "Int64Index([2454, 5917, 6700, 7402, 8591, 10697], dtype='int64')"
      ]
     },
     "execution_count": 27,
     "metadata": {},
     "output_type": "execute_result"
    }
   ],
   "source": [
    "df[df['Reviews'] > df['Installs']].index"
   ]
  },
  {
   "cell_type": "code",
   "execution_count": 28,
   "id": "be9e3d5c",
   "metadata": {},
   "outputs": [],
   "source": [
    "df=df.drop(df[df['Reviews'] > df['Installs']].index)"
   ]
  },
  {
   "cell_type": "code",
   "execution_count": 29,
   "id": "9e7a2172",
   "metadata": {},
   "outputs": [
    {
     "data": {
      "text/html": [
       "<div>\n",
       "<style scoped>\n",
       "    .dataframe tbody tr th:only-of-type {\n",
       "        vertical-align: middle;\n",
       "    }\n",
       "\n",
       "    .dataframe tbody tr th {\n",
       "        vertical-align: top;\n",
       "    }\n",
       "\n",
       "    .dataframe thead th {\n",
       "        text-align: right;\n",
       "    }\n",
       "</style>\n",
       "<table border=\"1\" class=\"dataframe\">\n",
       "  <thead>\n",
       "    <tr style=\"text-align: right;\">\n",
       "      <th></th>\n",
       "      <th>App</th>\n",
       "      <th>Category</th>\n",
       "      <th>Rating</th>\n",
       "      <th>Reviews</th>\n",
       "      <th>Size</th>\n",
       "      <th>Installs</th>\n",
       "      <th>Type</th>\n",
       "      <th>Price</th>\n",
       "      <th>Content Rating</th>\n",
       "      <th>Genres</th>\n",
       "      <th>Last Updated</th>\n",
       "      <th>Current Ver</th>\n",
       "      <th>Android Ver</th>\n",
       "    </tr>\n",
       "  </thead>\n",
       "  <tbody>\n",
       "  </tbody>\n",
       "</table>\n",
       "</div>"
      ],
      "text/plain": [
       "Empty DataFrame\n",
       "Columns: [App, Category, Rating, Reviews, Size, Installs, Type, Price, Content Rating, Genres, Last Updated, Current Ver, Android Ver]\n",
       "Index: []"
      ]
     },
     "execution_count": 29,
     "metadata": {},
     "output_type": "execute_result"
    }
   ],
   "source": [
    "df[df['Reviews'] > df['Installs']]"
   ]
  },
  {
   "cell_type": "code",
   "execution_count": 112,
   "id": "e64c418a",
   "metadata": {},
   "outputs": [
    {
     "data": {
      "text/html": [
       "<div>\n",
       "<style scoped>\n",
       "    .dataframe tbody tr th:only-of-type {\n",
       "        vertical-align: middle;\n",
       "    }\n",
       "\n",
       "    .dataframe tbody tr th {\n",
       "        vertical-align: top;\n",
       "    }\n",
       "\n",
       "    .dataframe thead th {\n",
       "        text-align: right;\n",
       "    }\n",
       "</style>\n",
       "<table border=\"1\" class=\"dataframe\">\n",
       "  <thead>\n",
       "    <tr style=\"text-align: right;\">\n",
       "      <th></th>\n",
       "      <th>App</th>\n",
       "      <th>Category</th>\n",
       "      <th>Rating</th>\n",
       "      <th>Reviews</th>\n",
       "      <th>Size</th>\n",
       "      <th>Installs</th>\n",
       "      <th>Type</th>\n",
       "      <th>Price</th>\n",
       "      <th>Content Rating</th>\n",
       "      <th>Genres</th>\n",
       "      <th>Last Updated</th>\n",
       "      <th>Current Ver</th>\n",
       "      <th>Android Ver</th>\n",
       "    </tr>\n",
       "  </thead>\n",
       "  <tbody>\n",
       "    <tr>\n",
       "      <th>0</th>\n",
       "      <td>Photo Editor &amp; Candy Camera &amp; Grid &amp; ScrapBook</td>\n",
       "      <td>ART_AND_DESIGN</td>\n",
       "      <td>4.1</td>\n",
       "      <td>159</td>\n",
       "      <td>19000.0</td>\n",
       "      <td>10000</td>\n",
       "      <td>Free</td>\n",
       "      <td>0.0</td>\n",
       "      <td>Everyone</td>\n",
       "      <td>Art &amp; Design</td>\n",
       "      <td>January 7, 2018</td>\n",
       "      <td>1.0.0</td>\n",
       "      <td>4.0.3 and up</td>\n",
       "    </tr>\n",
       "    <tr>\n",
       "      <th>1</th>\n",
       "      <td>Coloring book moana</td>\n",
       "      <td>ART_AND_DESIGN</td>\n",
       "      <td>3.9</td>\n",
       "      <td>967</td>\n",
       "      <td>14000.0</td>\n",
       "      <td>500000</td>\n",
       "      <td>Free</td>\n",
       "      <td>0.0</td>\n",
       "      <td>Everyone</td>\n",
       "      <td>Art &amp; Design;Pretend Play</td>\n",
       "      <td>January 15, 2018</td>\n",
       "      <td>2.0.0</td>\n",
       "      <td>4.0.3 and up</td>\n",
       "    </tr>\n",
       "    <tr>\n",
       "      <th>2</th>\n",
       "      <td>Pixel Draw - Number Art Coloring Book</td>\n",
       "      <td>ART_AND_DESIGN</td>\n",
       "      <td>4.3</td>\n",
       "      <td>967</td>\n",
       "      <td>2800.0</td>\n",
       "      <td>100000</td>\n",
       "      <td>Free</td>\n",
       "      <td>0.0</td>\n",
       "      <td>Everyone</td>\n",
       "      <td>Art &amp; Design;Creativity</td>\n",
       "      <td>June 20, 2018</td>\n",
       "      <td>1.1</td>\n",
       "      <td>4.4 and up</td>\n",
       "    </tr>\n",
       "    <tr>\n",
       "      <th>3</th>\n",
       "      <td>Paper flowers instructions</td>\n",
       "      <td>ART_AND_DESIGN</td>\n",
       "      <td>4.4</td>\n",
       "      <td>167</td>\n",
       "      <td>5600.0</td>\n",
       "      <td>50000</td>\n",
       "      <td>Free</td>\n",
       "      <td>0.0</td>\n",
       "      <td>Everyone</td>\n",
       "      <td>Art &amp; Design</td>\n",
       "      <td>March 26, 2017</td>\n",
       "      <td>1.0</td>\n",
       "      <td>2.3 and up</td>\n",
       "    </tr>\n",
       "    <tr>\n",
       "      <th>4</th>\n",
       "      <td>Smoke Effect Photo Maker - Smoke Editor</td>\n",
       "      <td>ART_AND_DESIGN</td>\n",
       "      <td>3.8</td>\n",
       "      <td>178</td>\n",
       "      <td>19000.0</td>\n",
       "      <td>50000</td>\n",
       "      <td>Free</td>\n",
       "      <td>0.0</td>\n",
       "      <td>Everyone</td>\n",
       "      <td>Art &amp; Design</td>\n",
       "      <td>April 26, 2018</td>\n",
       "      <td>1.1</td>\n",
       "      <td>4.0.3 and up</td>\n",
       "    </tr>\n",
       "  </tbody>\n",
       "</table>\n",
       "</div>"
      ],
      "text/plain": [
       "                                              App        Category  Rating  \\\n",
       "0  Photo Editor & Candy Camera & Grid & ScrapBook  ART_AND_DESIGN     4.1   \n",
       "1                             Coloring book moana  ART_AND_DESIGN     3.9   \n",
       "2           Pixel Draw - Number Art Coloring Book  ART_AND_DESIGN     4.3   \n",
       "3                      Paper flowers instructions  ART_AND_DESIGN     4.4   \n",
       "4         Smoke Effect Photo Maker - Smoke Editor  ART_AND_DESIGN     3.8   \n",
       "\n",
       "   Reviews     Size  Installs  Type  Price Content Rating  \\\n",
       "0      159  19000.0     10000  Free    0.0       Everyone   \n",
       "1      967  14000.0    500000  Free    0.0       Everyone   \n",
       "2      967   2800.0    100000  Free    0.0       Everyone   \n",
       "3      167   5600.0     50000  Free    0.0       Everyone   \n",
       "4      178  19000.0     50000  Free    0.0       Everyone   \n",
       "\n",
       "                      Genres      Last Updated Current Ver   Android Ver  \n",
       "0               Art & Design   January 7, 2018       1.0.0  4.0.3 and up  \n",
       "1  Art & Design;Pretend Play  January 15, 2018       2.0.0  4.0.3 and up  \n",
       "2    Art & Design;Creativity     June 20, 2018         1.1    4.4 and up  \n",
       "3               Art & Design    March 26, 2017         1.0    2.3 and up  \n",
       "4               Art & Design    April 26, 2018         1.1  4.0.3 and up  "
      ]
     },
     "execution_count": 112,
     "metadata": {},
     "output_type": "execute_result"
    }
   ],
   "source": [
    "df.reset_index(inplace=True, drop=True)\n",
    "df.head()"
   ]
  },
  {
   "cell_type": "markdown",
   "id": "9eb35f90",
   "metadata": {},
   "source": [
    "5. For free apps (type = “Free”), the price should not be >0. Dropped any such rows."
   ]
  },
  {
   "cell_type": "code",
   "execution_count": 31,
   "id": "4471710b",
   "metadata": {},
   "outputs": [
    {
     "data": {
      "text/html": [
       "<div>\n",
       "<style scoped>\n",
       "    .dataframe tbody tr th:only-of-type {\n",
       "        vertical-align: middle;\n",
       "    }\n",
       "\n",
       "    .dataframe tbody tr th {\n",
       "        vertical-align: top;\n",
       "    }\n",
       "\n",
       "    .dataframe thead th {\n",
       "        text-align: right;\n",
       "    }\n",
       "</style>\n",
       "<table border=\"1\" class=\"dataframe\">\n",
       "  <thead>\n",
       "    <tr style=\"text-align: right;\">\n",
       "      <th></th>\n",
       "      <th>App</th>\n",
       "      <th>Category</th>\n",
       "      <th>Rating</th>\n",
       "      <th>Reviews</th>\n",
       "      <th>Size</th>\n",
       "      <th>Installs</th>\n",
       "      <th>Type</th>\n",
       "      <th>Price</th>\n",
       "      <th>Content Rating</th>\n",
       "      <th>Genres</th>\n",
       "      <th>Last Updated</th>\n",
       "      <th>Current Ver</th>\n",
       "      <th>Android Ver</th>\n",
       "    </tr>\n",
       "  </thead>\n",
       "  <tbody>\n",
       "  </tbody>\n",
       "</table>\n",
       "</div>"
      ],
      "text/plain": [
       "Empty DataFrame\n",
       "Columns: [App, Category, Rating, Reviews, Size, Installs, Type, Price, Content Rating, Genres, Last Updated, Current Ver, Android Ver]\n",
       "Index: []"
      ]
     },
     "execution_count": 31,
     "metadata": {},
     "output_type": "execute_result"
    }
   ],
   "source": [
    "df[(df['Type']==\"Free\") & (df['Price'] > 0)] "
   ]
  },
  {
   "cell_type": "markdown",
   "id": "d5b89d63",
   "metadata": {},
   "source": [
    "**as you can see there are no records with above condition nothing needs to be dropped**"
   ]
  },
  {
   "cell_type": "markdown",
   "id": "82b28af7",
   "metadata": {},
   "source": [
    "5. Performing univariate analysis: \n",
    "\n",
    "     Boxplot for Price\n",
    "\n",
    "     Checked for any outliers..lets think about the price of usual apps on Play Store."
   ]
  },
  {
   "cell_type": "code",
   "execution_count": 32,
   "id": "4cd35741",
   "metadata": {},
   "outputs": [
    {
     "name": "stderr",
     "output_type": "stream",
     "text": [
      "C:\\Users\\DELL\\AppData\\Local\\Programs\\Python\\Python310\\lib\\site-packages\\seaborn\\_decorators.py:36: FutureWarning: Pass the following variable as a keyword arg: x. From version 0.12, the only valid positional argument will be `data`, and passing other arguments without an explicit keyword will result in an error or misinterpretation.\n",
      "  warnings.warn(\n"
     ]
    },
    {
     "data": {
      "text/plain": [
       "<AxesSubplot:xlabel='Price'>"
      ]
     },
     "execution_count": 32,
     "metadata": {},
     "output_type": "execute_result"
    },
    {
     "data": {
      "image/png": "[encoded data removed]",
      "text/plain": [
       "<Figure size 432x288 with 1 Axes>"
      ]
     },
     "metadata": {
      "needs_background": "light"
     },
     "output_type": "display_data"
    }
   ],
   "source": [
    "sns.boxplot(df['Price'])"
   ]
  },
  {
   "cell_type": "code",
   "execution_count": 33,
   "id": "051539b0",
   "metadata": {},
   "outputs": [
    {
     "data": {
      "text/plain": [
       "0.10    0.0\n",
       "0.25    0.0\n",
       "0.50    0.0\n",
       "0.75    0.0\n",
       "0.90    0.0\n",
       "Name: Price, dtype: float64"
      ]
     },
     "execution_count": 33,
     "metadata": {},
     "output_type": "execute_result"
    }
   ],
   "source": [
    "df['Price'].quantile([0.1,0.25,0.5,0.75,0.9])"
   ]
  },
  {
   "cell_type": "code",
   "execution_count": 34,
   "id": "205c36ad",
   "metadata": {},
   "outputs": [
    {
     "data": {
      "text/plain": [
       "400.0"
      ]
     },
     "execution_count": 34,
     "metadata": {},
     "output_type": "execute_result"
    }
   ],
   "source": [
    "df['Price'].max()"
   ]
  },
  {
   "cell_type": "markdown",
   "id": "b31936ff",
   "metadata": {},
   "source": [
    "all quartiles are 0 for price attribute hence,no boxplot appears above"
   ]
  },
  {
   "cell_type": "code",
   "execution_count": 35,
   "id": "ae24bddf",
   "metadata": {},
   "outputs": [
    {
     "data": {
      "text/plain": [
       "(0.0, 100.0)"
      ]
     },
     "execution_count": 35,
     "metadata": {},
     "output_type": "execute_result"
    },
    {
     "data": {
      "image/png": "[encoded data removed]",
      "text/plain": [
       "<Figure size 432x288 with 1 Axes>"
      ]
     },
     "metadata": {
      "needs_background": "light"
     },
     "output_type": "display_data"
    }
   ],
   "source": [
    "plt.hist(\"Price\", data=df)\n",
    "plt.ylim([0,100])\n",
    "#changed the y limit to see the outliers and to visualize the boxplot better"
   ]
  },
  {
   "cell_type": "markdown",
   "id": "78ef3164",
   "metadata": {},
   "source": [
    "As you can see the outliers lie between 70-80\n"
   ]
  },
  {
   "cell_type": "markdown",
   "id": "48d17bc2",
   "metadata": {},
   "source": [
    "Boxplot for Reviews\n",
    "\n",
    "Are there any apps with very high number of reviews? Do the values seem right?"
   ]
  },
  {
   "cell_type": "code",
   "execution_count": 36,
   "id": "2492b258",
   "metadata": {},
   "outputs": [
    {
     "data": {
      "text/plain": [
       "(0.0, 100000.0)"
      ]
     },
     "execution_count": 36,
     "metadata": {},
     "output_type": "execute_result"
    },
    {
     "data": {
      "image/png": "[encoded data removed]",
      "text/plain": [
       "<Figure size 432x288 with 1 Axes>"
      ]
     },
     "metadata": {
      "needs_background": "light"
     },
     "output_type": "display_data"
    }
   ],
   "source": [
    "sns.boxplot(x=\"Reviews\", data=df)\n",
    "plt.xlim([0, 100000])"
   ]
  },
  {
   "cell_type": "code",
   "execution_count": 37,
   "id": "690c1242",
   "metadata": {},
   "outputs": [
    {
     "data": {
      "text/plain": [
       "count    7.717000e+03\n",
       "mean     2.951275e+05\n",
       "std      1.864640e+06\n",
       "min      1.000000e+00\n",
       "25%      1.090000e+02\n",
       "50%      2.351000e+03\n",
       "75%      3.910900e+04\n",
       "max      4.489389e+07\n",
       "Name: Reviews, dtype: float64"
      ]
     },
     "execution_count": 37,
     "metadata": {},
     "output_type": "execute_result"
    }
   ],
   "source": [
    "df['Reviews'].describe()"
   ]
  },
  {
   "cell_type": "code",
   "execution_count": 38,
   "id": "34639718",
   "metadata": {
    "scrolled": true
   },
   "outputs": [
    {
     "data": {
      "text/plain": [
       "(0.0, 100.0)"
      ]
     },
     "execution_count": 38,
     "metadata": {},
     "output_type": "execute_result"
    },
    {
     "data": {
      "image/png": "[encoded data removed]",
      "text/plain": [
       "<Figure size 432x288 with 1 Axes>"
      ]
     },
     "metadata": {
      "needs_background": "light"
     },
     "output_type": "display_data"
    }
   ],
   "source": [
    "plt.hist(df['Reviews'])\n",
    "plt.ylim([0, 100])"
   ]
  },
  {
   "cell_type": "code",
   "execution_count": 39,
   "id": "3e98e264",
   "metadata": {
    "scrolled": false
   },
   "outputs": [
    {
     "data": {
      "text/html": [
       "<div>\n",
       "<style scoped>\n",
       "    .dataframe tbody tr th:only-of-type {\n",
       "        vertical-align: middle;\n",
       "    }\n",
       "\n",
       "    .dataframe tbody tr th {\n",
       "        vertical-align: top;\n",
       "    }\n",
       "\n",
       "    .dataframe thead th {\n",
       "        text-align: right;\n",
       "    }\n",
       "</style>\n",
       "<table border=\"1\" class=\"dataframe\">\n",
       "  <thead>\n",
       "    <tr style=\"text-align: right;\">\n",
       "      <th></th>\n",
       "      <th>App</th>\n",
       "      <th>Category</th>\n",
       "      <th>Rating</th>\n",
       "      <th>Reviews</th>\n",
       "      <th>Size</th>\n",
       "      <th>Installs</th>\n",
       "      <th>Type</th>\n",
       "      <th>Price</th>\n",
       "      <th>Content Rating</th>\n",
       "      <th>Genres</th>\n",
       "      <th>Last Updated</th>\n",
       "      <th>Current Ver</th>\n",
       "      <th>Android Ver</th>\n",
       "    </tr>\n",
       "  </thead>\n",
       "  <tbody>\n",
       "    <tr>\n",
       "      <th>124</th>\n",
       "      <td>Oxford Dictionary of English : Free</td>\n",
       "      <td>BOOKS_AND_REFERENCE</td>\n",
       "      <td>4.1</td>\n",
       "      <td>363934</td>\n",
       "      <td>7100.0</td>\n",
       "      <td>10000000</td>\n",
       "      <td>Free</td>\n",
       "      <td>0.0</td>\n",
       "      <td>Everyone</td>\n",
       "      <td>Books &amp; Reference</td>\n",
       "      <td>July 11, 2018</td>\n",
       "      <td>9.1.363</td>\n",
       "      <td>4.1 and up</td>\n",
       "    </tr>\n",
       "    <tr>\n",
       "      <th>147</th>\n",
       "      <td>English Dictionary - Offline</td>\n",
       "      <td>BOOKS_AND_REFERENCE</td>\n",
       "      <td>4.4</td>\n",
       "      <td>341157</td>\n",
       "      <td>30000.0</td>\n",
       "      <td>10000000</td>\n",
       "      <td>Free</td>\n",
       "      <td>0.0</td>\n",
       "      <td>Everyone 10+</td>\n",
       "      <td>Books &amp; Reference</td>\n",
       "      <td>March 20, 2018</td>\n",
       "      <td>3.9.1</td>\n",
       "      <td>4.2 and up</td>\n",
       "    </tr>\n",
       "    <tr>\n",
       "      <th>149</th>\n",
       "      <td>OfficeSuite : Free Office + PDF Editor</td>\n",
       "      <td>BUSINESS</td>\n",
       "      <td>4.3</td>\n",
       "      <td>1002861</td>\n",
       "      <td>35000.0</td>\n",
       "      <td>100000000</td>\n",
       "      <td>Free</td>\n",
       "      <td>0.0</td>\n",
       "      <td>Everyone</td>\n",
       "      <td>Business</td>\n",
       "      <td>August 2, 2018</td>\n",
       "      <td>9.7.14188</td>\n",
       "      <td>4.1 and up</td>\n",
       "    </tr>\n",
       "    <tr>\n",
       "      <th>164</th>\n",
       "      <td>MyASUS - Service Center</td>\n",
       "      <td>BUSINESS</td>\n",
       "      <td>4.4</td>\n",
       "      <td>380837</td>\n",
       "      <td>7300.0</td>\n",
       "      <td>10000000</td>\n",
       "      <td>Free</td>\n",
       "      <td>0.0</td>\n",
       "      <td>Everyone</td>\n",
       "      <td>Business</td>\n",
       "      <td>July 4, 2018</td>\n",
       "      <td>3.4.5</td>\n",
       "      <td>4.2 and up</td>\n",
       "    </tr>\n",
       "    <tr>\n",
       "      <th>216</th>\n",
       "      <td>OfficeSuite : Free Office + PDF Editor</td>\n",
       "      <td>BUSINESS</td>\n",
       "      <td>4.3</td>\n",
       "      <td>1002859</td>\n",
       "      <td>35000.0</td>\n",
       "      <td>100000000</td>\n",
       "      <td>Free</td>\n",
       "      <td>0.0</td>\n",
       "      <td>Everyone</td>\n",
       "      <td>Business</td>\n",
       "      <td>August 2, 2018</td>\n",
       "      <td>9.7.14188</td>\n",
       "      <td>4.1 and up</td>\n",
       "    </tr>\n",
       "    <tr>\n",
       "      <th>...</th>\n",
       "      <td>...</td>\n",
       "      <td>...</td>\n",
       "      <td>...</td>\n",
       "      <td>...</td>\n",
       "      <td>...</td>\n",
       "      <td>...</td>\n",
       "      <td>...</td>\n",
       "      <td>...</td>\n",
       "      <td>...</td>\n",
       "      <td>...</td>\n",
       "      <td>...</td>\n",
       "      <td>...</td>\n",
       "      <td>...</td>\n",
       "    </tr>\n",
       "    <tr>\n",
       "      <th>7643</th>\n",
       "      <td>MX Player Codec (ARMv7)</td>\n",
       "      <td>LIBRARIES_AND_DEMO</td>\n",
       "      <td>4.3</td>\n",
       "      <td>332083</td>\n",
       "      <td>6300.0</td>\n",
       "      <td>10000000</td>\n",
       "      <td>Free</td>\n",
       "      <td>0.0</td>\n",
       "      <td>Everyone</td>\n",
       "      <td>Libraries &amp; Demo</td>\n",
       "      <td>April 23, 2018</td>\n",
       "      <td>1.9.19</td>\n",
       "      <td>4.0 and up</td>\n",
       "    </tr>\n",
       "    <tr>\n",
       "      <th>7651</th>\n",
       "      <td>PhotoFunia</td>\n",
       "      <td>PHOTOGRAPHY</td>\n",
       "      <td>4.3</td>\n",
       "      <td>316378</td>\n",
       "      <td>4400.0</td>\n",
       "      <td>10000000</td>\n",
       "      <td>Free</td>\n",
       "      <td>0.0</td>\n",
       "      <td>Everyone</td>\n",
       "      <td>Photography</td>\n",
       "      <td>June 3, 2017</td>\n",
       "      <td>4.0.7.0</td>\n",
       "      <td>2.3 and up</td>\n",
       "    </tr>\n",
       "    <tr>\n",
       "      <th>7677</th>\n",
       "      <td>Modern Strike Online</td>\n",
       "      <td>GAME</td>\n",
       "      <td>4.3</td>\n",
       "      <td>834117</td>\n",
       "      <td>44000.0</td>\n",
       "      <td>10000000</td>\n",
       "      <td>Free</td>\n",
       "      <td>0.0</td>\n",
       "      <td>Teen</td>\n",
       "      <td>Action</td>\n",
       "      <td>July 30, 2018</td>\n",
       "      <td>1.25.4</td>\n",
       "      <td>4.1 and up</td>\n",
       "    </tr>\n",
       "    <tr>\n",
       "      <th>7699</th>\n",
       "      <td>Castle Clash: RPG War and Strategy FR</td>\n",
       "      <td>FAMILY</td>\n",
       "      <td>4.7</td>\n",
       "      <td>376223</td>\n",
       "      <td>24000.0</td>\n",
       "      <td>1000000</td>\n",
       "      <td>Free</td>\n",
       "      <td>0.0</td>\n",
       "      <td>Everyone</td>\n",
       "      <td>Strategy</td>\n",
       "      <td>July 18, 2018</td>\n",
       "      <td>1.4.2</td>\n",
       "      <td>4.1 and up</td>\n",
       "    </tr>\n",
       "    <tr>\n",
       "      <th>7716</th>\n",
       "      <td>iHoroscope - 2018 Daily Horoscope &amp; Astrology</td>\n",
       "      <td>LIFESTYLE</td>\n",
       "      <td>4.5</td>\n",
       "      <td>398307</td>\n",
       "      <td>19000.0</td>\n",
       "      <td>10000000</td>\n",
       "      <td>Free</td>\n",
       "      <td>0.0</td>\n",
       "      <td>Everyone</td>\n",
       "      <td>Lifestyle</td>\n",
       "      <td>July 25, 2018</td>\n",
       "      <td>Varies with device</td>\n",
       "      <td>Varies with device</td>\n",
       "    </tr>\n",
       "  </tbody>\n",
       "</table>\n",
       "<p>703 rows × 13 columns</p>\n",
       "</div>"
      ],
      "text/plain": [
       "                                                App             Category  \\\n",
       "124             Oxford Dictionary of English : Free  BOOKS_AND_REFERENCE   \n",
       "147                    English Dictionary - Offline  BOOKS_AND_REFERENCE   \n",
       "149          OfficeSuite : Free Office + PDF Editor             BUSINESS   \n",
       "164                         MyASUS - Service Center             BUSINESS   \n",
       "216          OfficeSuite : Free Office + PDF Editor             BUSINESS   \n",
       "...                                             ...                  ...   \n",
       "7643                        MX Player Codec (ARMv7)   LIBRARIES_AND_DEMO   \n",
       "7651                                     PhotoFunia          PHOTOGRAPHY   \n",
       "7677                           Modern Strike Online                 GAME   \n",
       "7699          Castle Clash: RPG War and Strategy FR               FAMILY   \n",
       "7716  iHoroscope - 2018 Daily Horoscope & Astrology            LIFESTYLE   \n",
       "\n",
       "      Rating  Reviews     Size   Installs  Type  Price Content Rating  \\\n",
       "124      4.1   363934   7100.0   10000000  Free    0.0       Everyone   \n",
       "147      4.4   341157  30000.0   10000000  Free    0.0   Everyone 10+   \n",
       "149      4.3  1002861  35000.0  100000000  Free    0.0       Everyone   \n",
       "164      4.4   380837   7300.0   10000000  Free    0.0       Everyone   \n",
       "216      4.3  1002859  35000.0  100000000  Free    0.0       Everyone   \n",
       "...      ...      ...      ...        ...   ...    ...            ...   \n",
       "7643     4.3   332083   6300.0   10000000  Free    0.0       Everyone   \n",
       "7651     4.3   316378   4400.0   10000000  Free    0.0       Everyone   \n",
       "7677     4.3   834117  44000.0   10000000  Free    0.0           Teen   \n",
       "7699     4.7   376223  24000.0    1000000  Free    0.0       Everyone   \n",
       "7716     4.5   398307  19000.0   10000000  Free    0.0       Everyone   \n",
       "\n",
       "                 Genres    Last Updated         Current Ver  \\\n",
       "124   Books & Reference   July 11, 2018             9.1.363   \n",
       "147   Books & Reference  March 20, 2018               3.9.1   \n",
       "149            Business  August 2, 2018           9.7.14188   \n",
       "164            Business    July 4, 2018               3.4.5   \n",
       "216            Business  August 2, 2018           9.7.14188   \n",
       "...                 ...             ...                 ...   \n",
       "7643   Libraries & Demo  April 23, 2018              1.9.19   \n",
       "7651        Photography    June 3, 2017             4.0.7.0   \n",
       "7677             Action   July 30, 2018              1.25.4   \n",
       "7699           Strategy   July 18, 2018               1.4.2   \n",
       "7716          Lifestyle   July 25, 2018  Varies with device   \n",
       "\n",
       "             Android Ver  \n",
       "124           4.1 and up  \n",
       "147           4.2 and up  \n",
       "149           4.1 and up  \n",
       "164           4.2 and up  \n",
       "216           4.1 and up  \n",
       "...                  ...  \n",
       "7643          4.0 and up  \n",
       "7651          2.3 and up  \n",
       "7677          4.1 and up  \n",
       "7699          4.1 and up  \n",
       "7716  Varies with device  \n",
       "\n",
       "[703 rows x 13 columns]"
      ]
     },
     "execution_count": 39,
     "metadata": {},
     "output_type": "execute_result"
    }
   ],
   "source": [
    "#which apps have very high reviews?\n",
    "df[df['Reviews']>3e5]"
   ]
  },
  {
   "cell_type": "code",
   "execution_count": 116,
   "id": "982ed783",
   "metadata": {},
   "outputs": [
    {
     "name": "stdout",
     "output_type": "stream",
     "text": [
      "In our dataset, there are 3 apps that have no. of reviews more than 3 Lacs, apps are 3783            Grand Theft Auto: San Andreas\n",
      "4549           Guardian Hunter: SuperBrawlRPG\n",
      "5937    Castle Clash: RPG War and Strategy FR\n",
      "Name: App, dtype: object\n"
     ]
    }
   ],
   "source": [
    "print(\"In our dataset, there are 3 apps that have no. of reviews more than 3 Lacs, apps are {}\".format(df[df['Reviews']>3e5]['App']));"
   ]
  },
  {
   "cell_type": "markdown",
   "id": "0412f417",
   "metadata": {},
   "source": [
    "Do the values seem right?"
   ]
  },
  {
   "cell_type": "code",
   "execution_count": 41,
   "id": "8d765477",
   "metadata": {},
   "outputs": [
    {
     "data": {
      "text/html": [
       "<div>\n",
       "<style scoped>\n",
       "    .dataframe tbody tr th:only-of-type {\n",
       "        vertical-align: middle;\n",
       "    }\n",
       "\n",
       "    .dataframe tbody tr th {\n",
       "        vertical-align: top;\n",
       "    }\n",
       "\n",
       "    .dataframe thead th {\n",
       "        text-align: right;\n",
       "    }\n",
       "</style>\n",
       "<table border=\"1\" class=\"dataframe\">\n",
       "  <thead>\n",
       "    <tr style=\"text-align: right;\">\n",
       "      <th></th>\n",
       "      <th>App</th>\n",
       "      <th>Category</th>\n",
       "      <th>Rating</th>\n",
       "      <th>Reviews</th>\n",
       "      <th>Size</th>\n",
       "      <th>Installs</th>\n",
       "      <th>Type</th>\n",
       "      <th>Price</th>\n",
       "      <th>Content Rating</th>\n",
       "      <th>Genres</th>\n",
       "      <th>Last Updated</th>\n",
       "      <th>Current Ver</th>\n",
       "      <th>Android Ver</th>\n",
       "    </tr>\n",
       "  </thead>\n",
       "  <tbody>\n",
       "    <tr>\n",
       "      <th>124</th>\n",
       "      <td>Oxford Dictionary of English : Free</td>\n",
       "      <td>BOOKS_AND_REFERENCE</td>\n",
       "      <td>4.1</td>\n",
       "      <td>363934</td>\n",
       "      <td>7100.0</td>\n",
       "      <td>10000000</td>\n",
       "      <td>Free</td>\n",
       "      <td>0.0</td>\n",
       "      <td>Everyone</td>\n",
       "      <td>Books &amp; Reference</td>\n",
       "      <td>July 11, 2018</td>\n",
       "      <td>9.1.363</td>\n",
       "      <td>4.1 and up</td>\n",
       "    </tr>\n",
       "    <tr>\n",
       "      <th>147</th>\n",
       "      <td>English Dictionary - Offline</td>\n",
       "      <td>BOOKS_AND_REFERENCE</td>\n",
       "      <td>4.4</td>\n",
       "      <td>341157</td>\n",
       "      <td>30000.0</td>\n",
       "      <td>10000000</td>\n",
       "      <td>Free</td>\n",
       "      <td>0.0</td>\n",
       "      <td>Everyone 10+</td>\n",
       "      <td>Books &amp; Reference</td>\n",
       "      <td>March 20, 2018</td>\n",
       "      <td>3.9.1</td>\n",
       "      <td>4.2 and up</td>\n",
       "    </tr>\n",
       "    <tr>\n",
       "      <th>149</th>\n",
       "      <td>OfficeSuite : Free Office + PDF Editor</td>\n",
       "      <td>BUSINESS</td>\n",
       "      <td>4.3</td>\n",
       "      <td>1002861</td>\n",
       "      <td>35000.0</td>\n",
       "      <td>100000000</td>\n",
       "      <td>Free</td>\n",
       "      <td>0.0</td>\n",
       "      <td>Everyone</td>\n",
       "      <td>Business</td>\n",
       "      <td>August 2, 2018</td>\n",
       "      <td>9.7.14188</td>\n",
       "      <td>4.1 and up</td>\n",
       "    </tr>\n",
       "    <tr>\n",
       "      <th>164</th>\n",
       "      <td>MyASUS - Service Center</td>\n",
       "      <td>BUSINESS</td>\n",
       "      <td>4.4</td>\n",
       "      <td>380837</td>\n",
       "      <td>7300.0</td>\n",
       "      <td>10000000</td>\n",
       "      <td>Free</td>\n",
       "      <td>0.0</td>\n",
       "      <td>Everyone</td>\n",
       "      <td>Business</td>\n",
       "      <td>July 4, 2018</td>\n",
       "      <td>3.4.5</td>\n",
       "      <td>4.2 and up</td>\n",
       "    </tr>\n",
       "    <tr>\n",
       "      <th>216</th>\n",
       "      <td>OfficeSuite : Free Office + PDF Editor</td>\n",
       "      <td>BUSINESS</td>\n",
       "      <td>4.3</td>\n",
       "      <td>1002859</td>\n",
       "      <td>35000.0</td>\n",
       "      <td>100000000</td>\n",
       "      <td>Free</td>\n",
       "      <td>0.0</td>\n",
       "      <td>Everyone</td>\n",
       "      <td>Business</td>\n",
       "      <td>August 2, 2018</td>\n",
       "      <td>9.7.14188</td>\n",
       "      <td>4.1 and up</td>\n",
       "    </tr>\n",
       "    <tr>\n",
       "      <th>...</th>\n",
       "      <td>...</td>\n",
       "      <td>...</td>\n",
       "      <td>...</td>\n",
       "      <td>...</td>\n",
       "      <td>...</td>\n",
       "      <td>...</td>\n",
       "      <td>...</td>\n",
       "      <td>...</td>\n",
       "      <td>...</td>\n",
       "      <td>...</td>\n",
       "      <td>...</td>\n",
       "      <td>...</td>\n",
       "      <td>...</td>\n",
       "    </tr>\n",
       "    <tr>\n",
       "      <th>7643</th>\n",
       "      <td>MX Player Codec (ARMv7)</td>\n",
       "      <td>LIBRARIES_AND_DEMO</td>\n",
       "      <td>4.3</td>\n",
       "      <td>332083</td>\n",
       "      <td>6300.0</td>\n",
       "      <td>10000000</td>\n",
       "      <td>Free</td>\n",
       "      <td>0.0</td>\n",
       "      <td>Everyone</td>\n",
       "      <td>Libraries &amp; Demo</td>\n",
       "      <td>April 23, 2018</td>\n",
       "      <td>1.9.19</td>\n",
       "      <td>4.0 and up</td>\n",
       "    </tr>\n",
       "    <tr>\n",
       "      <th>7651</th>\n",
       "      <td>PhotoFunia</td>\n",
       "      <td>PHOTOGRAPHY</td>\n",
       "      <td>4.3</td>\n",
       "      <td>316378</td>\n",
       "      <td>4400.0</td>\n",
       "      <td>10000000</td>\n",
       "      <td>Free</td>\n",
       "      <td>0.0</td>\n",
       "      <td>Everyone</td>\n",
       "      <td>Photography</td>\n",
       "      <td>June 3, 2017</td>\n",
       "      <td>4.0.7.0</td>\n",
       "      <td>2.3 and up</td>\n",
       "    </tr>\n",
       "    <tr>\n",
       "      <th>7677</th>\n",
       "      <td>Modern Strike Online</td>\n",
       "      <td>GAME</td>\n",
       "      <td>4.3</td>\n",
       "      <td>834117</td>\n",
       "      <td>44000.0</td>\n",
       "      <td>10000000</td>\n",
       "      <td>Free</td>\n",
       "      <td>0.0</td>\n",
       "      <td>Teen</td>\n",
       "      <td>Action</td>\n",
       "      <td>July 30, 2018</td>\n",
       "      <td>1.25.4</td>\n",
       "      <td>4.1 and up</td>\n",
       "    </tr>\n",
       "    <tr>\n",
       "      <th>7699</th>\n",
       "      <td>Castle Clash: RPG War and Strategy FR</td>\n",
       "      <td>FAMILY</td>\n",
       "      <td>4.7</td>\n",
       "      <td>376223</td>\n",
       "      <td>24000.0</td>\n",
       "      <td>1000000</td>\n",
       "      <td>Free</td>\n",
       "      <td>0.0</td>\n",
       "      <td>Everyone</td>\n",
       "      <td>Strategy</td>\n",
       "      <td>July 18, 2018</td>\n",
       "      <td>1.4.2</td>\n",
       "      <td>4.1 and up</td>\n",
       "    </tr>\n",
       "    <tr>\n",
       "      <th>7716</th>\n",
       "      <td>iHoroscope - 2018 Daily Horoscope &amp; Astrology</td>\n",
       "      <td>LIFESTYLE</td>\n",
       "      <td>4.5</td>\n",
       "      <td>398307</td>\n",
       "      <td>19000.0</td>\n",
       "      <td>10000000</td>\n",
       "      <td>Free</td>\n",
       "      <td>0.0</td>\n",
       "      <td>Everyone</td>\n",
       "      <td>Lifestyle</td>\n",
       "      <td>July 25, 2018</td>\n",
       "      <td>Varies with device</td>\n",
       "      <td>Varies with device</td>\n",
       "    </tr>\n",
       "  </tbody>\n",
       "</table>\n",
       "<p>703 rows × 13 columns</p>\n",
       "</div>"
      ],
      "text/plain": [
       "                                                App             Category  \\\n",
       "124             Oxford Dictionary of English : Free  BOOKS_AND_REFERENCE   \n",
       "147                    English Dictionary - Offline  BOOKS_AND_REFERENCE   \n",
       "149          OfficeSuite : Free Office + PDF Editor             BUSINESS   \n",
       "164                         MyASUS - Service Center             BUSINESS   \n",
       "216          OfficeSuite : Free Office + PDF Editor             BUSINESS   \n",
       "...                                             ...                  ...   \n",
       "7643                        MX Player Codec (ARMv7)   LIBRARIES_AND_DEMO   \n",
       "7651                                     PhotoFunia          PHOTOGRAPHY   \n",
       "7677                           Modern Strike Online                 GAME   \n",
       "7699          Castle Clash: RPG War and Strategy FR               FAMILY   \n",
       "7716  iHoroscope - 2018 Daily Horoscope & Astrology            LIFESTYLE   \n",
       "\n",
       "      Rating  Reviews     Size   Installs  Type  Price Content Rating  \\\n",
       "124      4.1   363934   7100.0   10000000  Free    0.0       Everyone   \n",
       "147      4.4   341157  30000.0   10000000  Free    0.0   Everyone 10+   \n",
       "149      4.3  1002861  35000.0  100000000  Free    0.0       Everyone   \n",
       "164      4.4   380837   7300.0   10000000  Free    0.0       Everyone   \n",
       "216      4.3  1002859  35000.0  100000000  Free    0.0       Everyone   \n",
       "...      ...      ...      ...        ...   ...    ...            ...   \n",
       "7643     4.3   332083   6300.0   10000000  Free    0.0       Everyone   \n",
       "7651     4.3   316378   4400.0   10000000  Free    0.0       Everyone   \n",
       "7677     4.3   834117  44000.0   10000000  Free    0.0           Teen   \n",
       "7699     4.7   376223  24000.0    1000000  Free    0.0       Everyone   \n",
       "7716     4.5   398307  19000.0   10000000  Free    0.0       Everyone   \n",
       "\n",
       "                 Genres    Last Updated         Current Ver  \\\n",
       "124   Books & Reference   July 11, 2018             9.1.363   \n",
       "147   Books & Reference  March 20, 2018               3.9.1   \n",
       "149            Business  August 2, 2018           9.7.14188   \n",
       "164            Business    July 4, 2018               3.4.5   \n",
       "216            Business  August 2, 2018           9.7.14188   \n",
       "...                 ...             ...                 ...   \n",
       "7643   Libraries & Demo  April 23, 2018              1.9.19   \n",
       "7651        Photography    June 3, 2017             4.0.7.0   \n",
       "7677             Action   July 30, 2018              1.25.4   \n",
       "7699           Strategy   July 18, 2018               1.4.2   \n",
       "7716          Lifestyle   July 25, 2018  Varies with device   \n",
       "\n",
       "             Android Ver  \n",
       "124           4.1 and up  \n",
       "147           4.2 and up  \n",
       "149           4.1 and up  \n",
       "164           4.2 and up  \n",
       "216           4.1 and up  \n",
       "...                  ...  \n",
       "7643          4.0 and up  \n",
       "7651          2.3 and up  \n",
       "7677          4.1 and up  \n",
       "7699          4.1 and up  \n",
       "7716  Varies with device  \n",
       "\n",
       "[703 rows x 13 columns]"
      ]
     },
     "execution_count": 41,
     "metadata": {},
     "output_type": "execute_result"
    }
   ],
   "source": [
    "df[(df['Reviews']>3e5) & (df['Installs']> df['Reviews'])]"
   ]
  },
  {
   "cell_type": "markdown",
   "id": "f2e3832e",
   "metadata": {},
   "source": [
    "Yes the values seem right as the no. of installs for these apps are higher than no. Reviews."
   ]
  },
  {
   "cell_type": "code",
   "execution_count": 42,
   "id": "95313e44",
   "metadata": {},
   "outputs": [],
   "source": [
    "df.reset_index(inplace=True, drop=True)\n",
    "df;"
   ]
  },
  {
   "cell_type": "markdown",
   "id": "575915cc",
   "metadata": {},
   "source": [
    "Histogram for Rating\n",
    "\n",
    "How are the ratings distributed? Is it more toward higher ratings?"
   ]
  },
  {
   "cell_type": "code",
   "execution_count": 111,
   "id": "2748afe5",
   "metadata": {},
   "outputs": [
    {
     "data": {
      "text/plain": [
       "Text(0.5, 1.0, 'Boxplot for Ratings')"
      ]
     },
     "execution_count": 111,
     "metadata": {},
     "output_type": "execute_result"
    },
    {
     "data": {
      "image/png": "[encoded data removed]",
      "text/plain": [
       "<Figure size 1800x720 with 2 Axes>"
      ]
     },
     "metadata": {
      "needs_background": "light"
     },
     "output_type": "display_data"
    }
   ],
   "source": [
    "plt.figure(figsize=(25,10))\n",
    "plt.subplot(2,2,1)\n",
    "plt.hist(x=\"Rating\", data=df)\n",
    "plt.title('Histogram for Ratings')\n",
    "plt.xlabel('Ratings')\n",
    "plt.subplot(2,2,2)\n",
    "sns.boxplot(x=\"Rating\", data=df)\n",
    "plt.title('Boxplot for Ratings')\n",
    "# plt.subplot(2,2,3)\n",
    "# sns.countplot(x=\"Rating\", data=df)"
   ]
  },
  {
   "cell_type": "code",
   "execution_count": 44,
   "id": "6ee5ac83",
   "metadata": {},
   "outputs": [
    {
     "data": {
      "text/plain": [
       "count    7717.000000\n",
       "mean        4.173293\n",
       "std         0.544362\n",
       "min         1.000000\n",
       "25%         4.000000\n",
       "50%         4.300000\n",
       "75%         4.500000\n",
       "max         5.000000\n",
       "Name: Rating, dtype: float64"
      ]
     },
     "execution_count": 44,
     "metadata": {},
     "output_type": "execute_result"
    }
   ],
   "source": [
    "df['Rating'].describe()"
   ]
  },
  {
   "cell_type": "markdown",
   "id": "b4191fbe",
   "metadata": {},
   "source": [
    "**As we observe from the above plots, the plots are right-skewed and hence, ratings are more towards the higher side.**"
   ]
  },
  {
   "cell_type": "markdown",
   "id": "8223a2bc",
   "metadata": {},
   "source": [
    "-Histogram for Size"
   ]
  },
  {
   "cell_type": "code",
   "execution_count": 45,
   "id": "45f8aa6b",
   "metadata": {},
   "outputs": [
    {
     "data": {
      "text/plain": [
       "count      7717.000000\n",
       "mean      22976.614293\n",
       "std       23456.770600\n",
       "min           8.500000\n",
       "25%        5300.000000\n",
       "50%       14000.000000\n",
       "75%       33000.000000\n",
       "max      100000.000000\n",
       "Name: Size, dtype: float64"
      ]
     },
     "execution_count": 45,
     "metadata": {},
     "output_type": "execute_result"
    }
   ],
   "source": [
    "df['Size'].describe()"
   ]
  },
  {
   "cell_type": "code",
   "execution_count": 46,
   "id": "814c0939",
   "metadata": {},
   "outputs": [
    {
     "data": {
      "text/plain": [
       "(0.0, 900.0)"
      ]
     },
     "execution_count": 46,
     "metadata": {},
     "output_type": "execute_result"
    },
    {
     "data": {
      "image/png": "[encoded data removed]",
      "text/plain": [
       "<Figure size 432x288 with 1 Axes>"
      ]
     },
     "metadata": {
      "needs_background": "light"
     },
     "output_type": "display_data"
    }
   ],
   "source": [
    "plt.hist(x=\"Size\", data=df)\n",
    "plt.ylim([0,900])"
   ]
  },
  {
   "cell_type": "code",
   "execution_count": 47,
   "id": "632a3898",
   "metadata": {},
   "outputs": [
    {
     "data": {
      "text/plain": [
       "<AxesSubplot:xlabel='Size'>"
      ]
     },
     "execution_count": 47,
     "metadata": {},
     "output_type": "execute_result"
    },
    {
     "data": {
      "image/png": "[encoded data removed]",
      "text/plain": [
       "<Figure size 432x288 with 1 Axes>"
      ]
     },
     "metadata": {
      "needs_background": "light"
     },
     "output_type": "display_data"
    }
   ],
   "source": [
    "sns.boxplot(x=\"Size\", data=df)"
   ]
  },
  {
   "cell_type": "markdown",
   "id": "fe2d04b4",
   "metadata": {},
   "source": [
    "6. Outlier treatment: \n",
    "\n",
    "Price: From the box plot, it seems like there are some apps with very high price. A price of $200 for an application on the Play Store is very high and suspicious! Lets Check out the records with very high price.\n",
    "\n",
    "Is 200 indeed a high price?\n",
    "\n",
    "Dropped these as most seem to be junk apps"
   ]
  },
  {
   "cell_type": "code",
   "execution_count": 48,
   "id": "08ceda57",
   "metadata": {},
   "outputs": [],
   "source": [
    "df=df.drop(df[df['Price']>200].index)"
   ]
  },
  {
   "cell_type": "code",
   "execution_count": 49,
   "id": "1645a1df",
   "metadata": {},
   "outputs": [
    {
     "data": {
      "text/html": [
       "<div>\n",
       "<style scoped>\n",
       "    .dataframe tbody tr th:only-of-type {\n",
       "        vertical-align: middle;\n",
       "    }\n",
       "\n",
       "    .dataframe tbody tr th {\n",
       "        vertical-align: top;\n",
       "    }\n",
       "\n",
       "    .dataframe thead th {\n",
       "        text-align: right;\n",
       "    }\n",
       "</style>\n",
       "<table border=\"1\" class=\"dataframe\">\n",
       "  <thead>\n",
       "    <tr style=\"text-align: right;\">\n",
       "      <th></th>\n",
       "      <th>App</th>\n",
       "      <th>Category</th>\n",
       "      <th>Rating</th>\n",
       "      <th>Reviews</th>\n",
       "      <th>Size</th>\n",
       "      <th>Installs</th>\n",
       "      <th>Type</th>\n",
       "      <th>Price</th>\n",
       "      <th>Content Rating</th>\n",
       "      <th>Genres</th>\n",
       "      <th>Last Updated</th>\n",
       "      <th>Current Ver</th>\n",
       "      <th>Android Ver</th>\n",
       "    </tr>\n",
       "  </thead>\n",
       "  <tbody>\n",
       "  </tbody>\n",
       "</table>\n",
       "</div>"
      ],
      "text/plain": [
       "Empty DataFrame\n",
       "Columns: [App, Category, Rating, Reviews, Size, Installs, Type, Price, Content Rating, Genres, Last Updated, Current Ver, Android Ver]\n",
       "Index: []"
      ]
     },
     "execution_count": 49,
     "metadata": {},
     "output_type": "execute_result"
    }
   ],
   "source": [
    "df[df['Price']>200]"
   ]
  },
  {
   "cell_type": "markdown",
   "id": "9033c618",
   "metadata": {},
   "source": [
    "Reviews: Very few apps have very high number of reviews. These are all star apps that don’t help with the analysis and, in fact, will skew it. Drop records having more than 2 million reviews."
   ]
  },
  {
   "cell_type": "code",
   "execution_count": 50,
   "id": "a53ef523",
   "metadata": {},
   "outputs": [],
   "source": [
    "df=df.drop(df[df['Reviews']>2e6].index)"
   ]
  },
  {
   "cell_type": "code",
   "execution_count": 51,
   "id": "2236d518",
   "metadata": {},
   "outputs": [
    {
     "data": {
      "text/html": [
       "<div>\n",
       "<style scoped>\n",
       "    .dataframe tbody tr th:only-of-type {\n",
       "        vertical-align: middle;\n",
       "    }\n",
       "\n",
       "    .dataframe tbody tr th {\n",
       "        vertical-align: top;\n",
       "    }\n",
       "\n",
       "    .dataframe thead th {\n",
       "        text-align: right;\n",
       "    }\n",
       "</style>\n",
       "<table border=\"1\" class=\"dataframe\">\n",
       "  <thead>\n",
       "    <tr style=\"text-align: right;\">\n",
       "      <th></th>\n",
       "      <th>App</th>\n",
       "      <th>Category</th>\n",
       "      <th>Rating</th>\n",
       "      <th>Reviews</th>\n",
       "      <th>Size</th>\n",
       "      <th>Installs</th>\n",
       "      <th>Type</th>\n",
       "      <th>Price</th>\n",
       "      <th>Content Rating</th>\n",
       "      <th>Genres</th>\n",
       "      <th>Last Updated</th>\n",
       "      <th>Current Ver</th>\n",
       "      <th>Android Ver</th>\n",
       "    </tr>\n",
       "  </thead>\n",
       "  <tbody>\n",
       "  </tbody>\n",
       "</table>\n",
       "</div>"
      ],
      "text/plain": [
       "Empty DataFrame\n",
       "Columns: [App, Category, Rating, Reviews, Size, Installs, Type, Price, Content Rating, Genres, Last Updated, Current Ver, Android Ver]\n",
       "Index: []"
      ]
     },
     "execution_count": 51,
     "metadata": {},
     "output_type": "execute_result"
    }
   ],
   "source": [
    "df[df['Reviews']>2e6]"
   ]
  },
  {
   "cell_type": "markdown",
   "id": "f2f56a9e",
   "metadata": {},
   "source": [
    "Installs:  There seems to be some outliers in this field too. Apps having very high number of installs should be dropped from the analysis.\n",
    "\n",
    "Find out the different percentiles – 10, 25, 50, 70, 90, 95, 99"
   ]
  },
  {
   "cell_type": "code",
   "execution_count": 52,
   "id": "c927c75b",
   "metadata": {},
   "outputs": [
    {
     "data": {
      "text/plain": [
       "0.10        1000.0\n",
       "0.25       10000.0\n",
       "0.50      100000.0\n",
       "0.70     1000000.0\n",
       "0.90    10000000.0\n",
       "0.95    10000000.0\n",
       "0.99    50000000.0\n",
       "Name: Installs, dtype: float64"
      ]
     },
     "execution_count": 52,
     "metadata": {},
     "output_type": "execute_result"
    }
   ],
   "source": [
    "df['Installs'].quantile([0.1,0.25,0.5,.7,.9,.95,.99])"
   ]
  },
  {
   "cell_type": "markdown",
   "id": "988b76b8",
   "metadata": {},
   "source": [
    "Decide a threshold as cutoff for outlier and drop records having values more than that"
   ]
  },
  {
   "cell_type": "code",
   "execution_count": 53,
   "id": "04c30b74",
   "metadata": {},
   "outputs": [],
   "source": [
    "df=df.drop(df[df['Installs']>2e6].index)"
   ]
  },
  {
   "cell_type": "markdown",
   "id": "236b2ff6",
   "metadata": {},
   "source": [
    "We used sns.countplot, sns.boxplot, plt.hist for univariate analysis as done above. We found outliers using this analysis and dropped them as they will not help in analysis and will only skew the data."
   ]
  },
  {
   "cell_type": "markdown",
   "id": "12d7d4d0",
   "metadata": {},
   "source": [
    "7. Bivariate analysis: Let’s look at how the available predictors relate to the variable of interest, i.e., our target variable rating. Make scatter plots (for numeric features) and box plots (for character features) to assess the relations between rating and the other features.\n",
    "\n",
    "    1. - Make scatter plot/joinplot for Rating vs. Price\n",
    "\n",
    "    "
   ]
  },
  {
   "cell_type": "code",
   "execution_count": 54,
   "id": "2ac32bf2",
   "metadata": {},
   "outputs": [
    {
     "data": {
      "text/plain": [
       "<matplotlib.collections.PathCollection at 0x258784c45e0>"
      ]
     },
     "execution_count": 54,
     "metadata": {},
     "output_type": "execute_result"
    },
    {
     "data": {
      "image/png": "[encoded data removed]",
      "text/plain": [
       "<Figure size 432x288 with 1 Axes>"
      ]
     },
     "metadata": {
      "needs_background": "light"
     },
     "output_type": "display_data"
    }
   ],
   "source": [
    "plt.scatter(df[\"Rating\"], df[\"Price\"])"
   ]
  },
  {
   "cell_type": "markdown",
   "id": "cf30bff5",
   "metadata": {},
   "source": [
    "**Rating does not increase with price. We have higher ratings for apps having price<=40**"
   ]
  },
  {
   "cell_type": "code",
   "execution_count": 55,
   "id": "aaed887b",
   "metadata": {},
   "outputs": [
    {
     "data": {
      "text/html": [
       "<div>\n",
       "<style scoped>\n",
       "    .dataframe tbody tr th:only-of-type {\n",
       "        vertical-align: middle;\n",
       "    }\n",
       "\n",
       "    .dataframe tbody tr th {\n",
       "        vertical-align: top;\n",
       "    }\n",
       "\n",
       "    .dataframe thead th {\n",
       "        text-align: right;\n",
       "    }\n",
       "</style>\n",
       "<table border=\"1\" class=\"dataframe\">\n",
       "  <thead>\n",
       "    <tr style=\"text-align: right;\">\n",
       "      <th></th>\n",
       "      <th>Rating</th>\n",
       "      <th>Reviews</th>\n",
       "      <th>Size</th>\n",
       "      <th>Installs</th>\n",
       "      <th>Price</th>\n",
       "    </tr>\n",
       "  </thead>\n",
       "  <tbody>\n",
       "    <tr>\n",
       "      <th>Rating</th>\n",
       "      <td>1.000000</td>\n",
       "      <td>0.134468</td>\n",
       "      <td>0.028404</td>\n",
       "      <td>0.079238</td>\n",
       "      <td>0.034180</td>\n",
       "    </tr>\n",
       "    <tr>\n",
       "      <th>Reviews</th>\n",
       "      <td>0.134468</td>\n",
       "      <td>1.000000</td>\n",
       "      <td>0.172652</td>\n",
       "      <td>0.579802</td>\n",
       "      <td>-0.031237</td>\n",
       "    </tr>\n",
       "    <tr>\n",
       "      <th>Size</th>\n",
       "      <td>0.028404</td>\n",
       "      <td>0.172652</td>\n",
       "      <td>1.000000</td>\n",
       "      <td>0.206521</td>\n",
       "      <td>0.028241</td>\n",
       "    </tr>\n",
       "    <tr>\n",
       "      <th>Installs</th>\n",
       "      <td>0.079238</td>\n",
       "      <td>0.579802</td>\n",
       "      <td>0.206521</td>\n",
       "      <td>1.000000</td>\n",
       "      <td>-0.105701</td>\n",
       "    </tr>\n",
       "    <tr>\n",
       "      <th>Price</th>\n",
       "      <td>0.034180</td>\n",
       "      <td>-0.031237</td>\n",
       "      <td>0.028241</td>\n",
       "      <td>-0.105701</td>\n",
       "      <td>1.000000</td>\n",
       "    </tr>\n",
       "  </tbody>\n",
       "</table>\n",
       "</div>"
      ],
      "text/plain": [
       "            Rating   Reviews      Size  Installs     Price\n",
       "Rating    1.000000  0.134468  0.028404  0.079238  0.034180\n",
       "Reviews   0.134468  1.000000  0.172652  0.579802 -0.031237\n",
       "Size      0.028404  0.172652  1.000000  0.206521  0.028241\n",
       "Installs  0.079238  0.579802  0.206521  1.000000 -0.105701\n",
       "Price     0.034180 -0.031237  0.028241 -0.105701  1.000000"
      ]
     },
     "execution_count": 55,
     "metadata": {},
     "output_type": "execute_result"
    }
   ],
   "source": [
    "df.corr()"
   ]
  },
  {
   "cell_type": "code",
   "execution_count": 56,
   "id": "eaf197b0",
   "metadata": {},
   "outputs": [
    {
     "data": {
      "text/plain": [
       "<seaborn.axisgrid.JointGrid at 0x258784ea800>"
      ]
     },
     "execution_count": 56,
     "metadata": {},
     "output_type": "execute_result"
    },
    {
     "data": {
      "image/png": "[encoded data removed]",
      "text/plain": [
       "<Figure size 432x432 with 3 Axes>"
      ]
     },
     "metadata": {
      "needs_background": "light"
     },
     "output_type": "display_data"
    }
   ],
   "source": [
    "sns.jointplot(x=\"Rating\", y=\"Price\", data=df)"
   ]
  },
  {
   "cell_type": "markdown",
   "id": "94c9051b",
   "metadata": {},
   "source": [
    "7. B. Make scatter plot/joinplot for Rating vs. Size\n",
    "\n",
    "      Are heavier apps rated better?"
   ]
  },
  {
   "cell_type": "code",
   "execution_count": 57,
   "id": "5a8c3dea",
   "metadata": {},
   "outputs": [
    {
     "data": {
      "text/plain": [
       "<matplotlib.collections.PathCollection at 0x258783ef160>"
      ]
     },
     "execution_count": 57,
     "metadata": {},
     "output_type": "execute_result"
    },
    {
     "data": {
      "image/png": "[encoded data removed]",
      "text/plain": [
       "<Figure size 432x288 with 1 Axes>"
      ]
     },
     "metadata": {
      "needs_background": "light"
     },
     "output_type": "display_data"
    }
   ],
   "source": [
    "plt.scatter(df[\"Rating\"], df[\"Size\"])"
   ]
  },
  {
   "cell_type": "code",
   "execution_count": 121,
   "id": "3fd2dc6c",
   "metadata": {},
   "outputs": [],
   "source": [
    "df.groupby(['Rating', 'Size']).Rating.count().sort_values(ascending=False);"
   ]
  },
  {
   "cell_type": "markdown",
   "id": "8ce1b3ab",
   "metadata": {},
   "source": [
    "**As we can observe from the plots above, the heavier apps are not rated better**"
   ]
  },
  {
   "cell_type": "markdown",
   "id": "4ad33a3b",
   "metadata": {},
   "source": [
    "Make scatter plot/joinplot for Rating vs. Reviews"
   ]
  },
  {
   "cell_type": "code",
   "execution_count": 59,
   "id": "fd8a586c",
   "metadata": {},
   "outputs": [
    {
     "data": {
      "text/plain": [
       "<matplotlib.collections.PathCollection at 0x258780b65f0>"
      ]
     },
     "execution_count": 59,
     "metadata": {},
     "output_type": "execute_result"
    },
    {
     "data": {
      "image/png": "[encoded data removed]",
      "text/plain": [
       "<Figure size 432x288 with 1 Axes>"
      ]
     },
     "metadata": {
      "needs_background": "light"
     },
     "output_type": "display_data"
    }
   ],
   "source": [
    "plt.scatter(df['Rating'], df['Reviews'])"
   ]
  },
  {
   "cell_type": "markdown",
   "id": "406bbad8",
   "metadata": {},
   "source": [
    "**Apps having more reviews are having better ratings.**"
   ]
  },
  {
   "cell_type": "markdown",
   "id": "ccb01aee",
   "metadata": {},
   "source": [
    "Make boxplot for Rating vs. Content Rating\n",
    "\n",
    "\n",
    "Lets check if there is there any difference in the ratings? Are some types liked better?"
   ]
  },
  {
   "cell_type": "code",
   "execution_count": 60,
   "id": "1277154b",
   "metadata": {},
   "outputs": [
    {
     "data": {
      "text/plain": [
       "<AxesSubplot:xlabel='Rating', ylabel='Content Rating'>"
      ]
     },
     "execution_count": 60,
     "metadata": {},
     "output_type": "execute_result"
    },
    {
     "data": {
      "image/png": "[encoded data removed]",
      "text/plain": [
       "<Figure size 432x288 with 1 Axes>"
      ]
     },
     "metadata": {
      "needs_background": "light"
     },
     "output_type": "display_data"
    }
   ],
   "source": [
    "sns.boxplot(x=\"Rating\", y=\"Content Rating\", data=df)"
   ]
  },
  {
   "cell_type": "markdown",
   "id": "70badd17",
   "metadata": {},
   "source": [
    "Make boxplot for Ratings vs. Category\n",
    "\n",
    "Which genre has the best ratings?"
   ]
  },
  {
   "cell_type": "code",
   "execution_count": 61,
   "id": "290e5840",
   "metadata": {},
   "outputs": [
    {
     "data": {
      "text/plain": [
       "33"
      ]
     },
     "execution_count": 61,
     "metadata": {},
     "output_type": "execute_result"
    }
   ],
   "source": [
    "df['Category'].nunique()"
   ]
  },
  {
   "cell_type": "code",
   "execution_count": 62,
   "id": "d03c8165",
   "metadata": {},
   "outputs": [
    {
     "data": {
      "text/html": [
       "<div>\n",
       "<style scoped>\n",
       "    .dataframe tbody tr th:only-of-type {\n",
       "        vertical-align: middle;\n",
       "    }\n",
       "\n",
       "    .dataframe tbody tr th {\n",
       "        vertical-align: top;\n",
       "    }\n",
       "\n",
       "    .dataframe thead th {\n",
       "        text-align: right;\n",
       "    }\n",
       "</style>\n",
       "<table border=\"1\" class=\"dataframe\">\n",
       "  <thead>\n",
       "    <tr style=\"text-align: right;\">\n",
       "      <th></th>\n",
       "      <th>Category</th>\n",
       "      <th>Rating</th>\n",
       "    </tr>\n",
       "  </thead>\n",
       "  <tbody>\n",
       "    <tr>\n",
       "      <th>0</th>\n",
       "      <td>EVENTS</td>\n",
       "      <td>4.491892</td>\n",
       "    </tr>\n",
       "    <tr>\n",
       "      <th>1</th>\n",
       "      <td>ART_AND_DESIGN</td>\n",
       "      <td>4.367308</td>\n",
       "    </tr>\n",
       "    <tr>\n",
       "      <th>2</th>\n",
       "      <td>EDUCATION</td>\n",
       "      <td>4.360759</td>\n",
       "    </tr>\n",
       "    <tr>\n",
       "      <th>3</th>\n",
       "      <td>PARENTING</td>\n",
       "      <td>4.339535</td>\n",
       "    </tr>\n",
       "    <tr>\n",
       "      <th>4</th>\n",
       "      <td>BOOKS_AND_REFERENCE</td>\n",
       "      <td>4.321538</td>\n",
       "    </tr>\n",
       "    <tr>\n",
       "      <th>5</th>\n",
       "      <td>PERSONALIZATION</td>\n",
       "      <td>4.318860</td>\n",
       "    </tr>\n",
       "    <tr>\n",
       "      <th>6</th>\n",
       "      <td>BEAUTY</td>\n",
       "      <td>4.286111</td>\n",
       "    </tr>\n",
       "    <tr>\n",
       "      <th>7</th>\n",
       "      <td>SOCIAL</td>\n",
       "      <td>4.243548</td>\n",
       "    </tr>\n",
       "    <tr>\n",
       "      <th>8</th>\n",
       "      <td>WEATHER</td>\n",
       "      <td>4.234146</td>\n",
       "    </tr>\n",
       "    <tr>\n",
       "      <th>9</th>\n",
       "      <td>LIBRARIES_AND_DEMO</td>\n",
       "      <td>4.229091</td>\n",
       "    </tr>\n",
       "  </tbody>\n",
       "</table>\n",
       "</div>"
      ],
      "text/plain": [
       "              Category    Rating\n",
       "0               EVENTS  4.491892\n",
       "1       ART_AND_DESIGN  4.367308\n",
       "2            EDUCATION  4.360759\n",
       "3            PARENTING  4.339535\n",
       "4  BOOKS_AND_REFERENCE  4.321538\n",
       "5      PERSONALIZATION  4.318860\n",
       "6               BEAUTY  4.286111\n",
       "7               SOCIAL  4.243548\n",
       "8              WEATHER  4.234146\n",
       "9   LIBRARIES_AND_DEMO  4.229091"
      ]
     },
     "execution_count": 62,
     "metadata": {},
     "output_type": "execute_result"
    }
   ],
   "source": [
    "# how to find top 10 categories by mean Rating?\n",
    "x=df.groupby('Category').Rating.mean().sort_values(ascending=False).head(10).reset_index()\n",
    "x"
   ]
  },
  {
   "cell_type": "code",
   "execution_count": 120,
   "id": "ebb36566",
   "metadata": {},
   "outputs": [
    {
     "data": {
      "image/png": "[encoded data removed]",
      "text/plain": [
       "<Figure size 432x288 with 1 Axes>"
      ]
     },
     "metadata": {
      "needs_background": "light"
     },
     "output_type": "display_data"
    }
   ],
   "source": [
    "sns.boxplot(x=\"Rating\", y=\"Category\", data=x);"
   ]
  },
  {
   "cell_type": "code",
   "execution_count": 119,
   "id": "62b92f3b",
   "metadata": {},
   "outputs": [],
   "source": [
    "y=df.groupby('Genres').Rating.mean().sort_values(ascending=False).head(10).reset_index()\n",
    "y;"
   ]
  },
  {
   "cell_type": "code",
   "execution_count": 118,
   "id": "2c462414",
   "metadata": {},
   "outputs": [
    {
     "name": "stderr",
     "output_type": "stream",
     "text": [
      "C:\\Users\\DELL\\AppData\\Local\\Programs\\Python\\Python310\\lib\\site-packages\\seaborn\\_decorators.py:36: FutureWarning: Pass the following variables as keyword args: x, y. From version 0.12, the only valid positional argument will be `data`, and passing other arguments without an explicit keyword will result in an error or misinterpretation.\n",
      "  warnings.warn(\n"
     ]
    },
    {
     "data": {
      "image/png": "[encoded data removed]",
      "text/plain": [
       "<Figure size 432x288 with 1 Axes>"
      ]
     },
     "metadata": {
      "needs_background": "light"
     },
     "output_type": "display_data"
    }
   ],
   "source": [
    "sns.boxplot(y['Rating'], y['Genres']);;"
   ]
  },
  {
   "cell_type": "code",
   "execution_count": 117,
   "id": "8d660472",
   "metadata": {},
   "outputs": [],
   "source": [
    "df.columns;"
   ]
  },
  {
   "cell_type": "code",
   "execution_count": 109,
   "id": "6aa044fe",
   "metadata": {},
   "outputs": [
    {
     "data": {
      "text/plain": [
       "<AxesSubplot:xlabel='Rating', ylabel='Category'>"
      ]
     },
     "execution_count": 109,
     "metadata": {},
     "output_type": "execute_result"
    },
    {
     "data": {
      "image/png": "[encoded data removed]",
      "text/plain": [
       "<Figure size 720x1440 with 1 Axes>"
      ]
     },
     "metadata": {
      "needs_background": "light"
     },
     "output_type": "display_data"
    }
   ],
   "source": [
    "plt.figure(figsize=(10,20))\n",
    "sns.boxplot(x=\"Rating\", y=\"Category\", data=df)"
   ]
  },
  {
   "cell_type": "code",
   "execution_count": 68,
   "id": "f24f1e30",
   "metadata": {},
   "outputs": [
    {
     "data": {
      "text/plain": [
       "(5954, 13)"
      ]
     },
     "execution_count": 68,
     "metadata": {},
     "output_type": "execute_result"
    }
   ],
   "source": [
    "df.shape"
   ]
  },
  {
   "cell_type": "markdown",
   "id": "3c1c86fd",
   "metadata": {},
   "source": [
    "8. **Data preprocessing**\n",
    "\n",
    "  a.Created a copy of the dataframe to make all the edits. Named it to inp1.\n",
    "\n",
    "  **Reviews and Install have some values that are still relatively very high. Before building a linear regression model, we need   to reduce the skew. Applied log transformation (np.log1p) to Reviews and Installs.**"
   ]
  },
  {
   "cell_type": "code",
   "execution_count": 69,
   "id": "3d0d693c",
   "metadata": {},
   "outputs": [],
   "source": [
    "inp1=df.copy()"
   ]
  },
  {
   "cell_type": "code",
   "execution_count": 70,
   "id": "46050887",
   "metadata": {},
   "outputs": [
    {
     "data": {
      "text/plain": [
       "(5954, 13)"
      ]
     },
     "execution_count": 70,
     "metadata": {},
     "output_type": "execute_result"
    }
   ],
   "source": [
    "df.shape"
   ]
  },
  {
   "cell_type": "code",
   "execution_count": 71,
   "id": "f747ac38",
   "metadata": {},
   "outputs": [
    {
     "data": {
      "text/plain": [
       "(5954, 13)"
      ]
     },
     "execution_count": 71,
     "metadata": {},
     "output_type": "execute_result"
    }
   ],
   "source": [
    "inp1['Reviews']=np.log1p(inp1['Reviews'])\n",
    "inp1.shape"
   ]
  },
  {
   "cell_type": "code",
   "execution_count": 72,
   "id": "4c8a2289",
   "metadata": {},
   "outputs": [
    {
     "data": {
      "text/plain": [
       "(5954, 13)"
      ]
     },
     "execution_count": 72,
     "metadata": {},
     "output_type": "execute_result"
    }
   ],
   "source": [
    "inp1['Installs']=np.log1p(inp1['Installs'])\n",
    "inp1.shape"
   ]
  },
  {
   "cell_type": "code",
   "execution_count": 73,
   "id": "a678e9b0",
   "metadata": {},
   "outputs": [
    {
     "data": {
      "text/plain": [
       "0        9.210440\n",
       "1       13.122365\n",
       "4       11.512935\n",
       "5       10.819798\n",
       "6       10.819798\n",
       "          ...    \n",
       "7711    11.512935\n",
       "7712     6.908755\n",
       "7713     6.216606\n",
       "7714     8.517393\n",
       "7715     4.615121\n",
       "Name: Installs, Length: 5954, dtype: float64"
      ]
     },
     "execution_count": 73,
     "metadata": {},
     "output_type": "execute_result"
    }
   ],
   "source": [
    "inp1['Installs']"
   ]
  },
  {
   "cell_type": "markdown",
   "id": "56747cdb",
   "metadata": {},
   "source": [
    "b. Drop columns App, Last Updated, Current Ver, and Android Ver. These variables are not useful for our task."
   ]
  },
  {
   "cell_type": "code",
   "execution_count": 74,
   "id": "191abe4a",
   "metadata": {},
   "outputs": [],
   "source": [
    "inp1=inp1.drop(['App','Last Updated', 'Current Ver', 'Android Ver'],axis=1)"
   ]
  },
  {
   "cell_type": "code",
   "execution_count": 75,
   "id": "ced33454",
   "metadata": {},
   "outputs": [
    {
     "data": {
      "text/plain": [
       "(5954, 9)"
      ]
     },
     "execution_count": 75,
     "metadata": {},
     "output_type": "execute_result"
    }
   ],
   "source": [
    "inp1.shape"
   ]
  },
  {
   "cell_type": "markdown",
   "id": "25f00b0e",
   "metadata": {},
   "source": [
    "**C. Created dummy columns for Category, Genres, and Content Rating. This needs to be done as the models do not understand categorical data, and all data should be numeric. Dummy encoding is one way to convert character fields to numeric. Name of dataframe is inp2.**"
   ]
  },
  {
   "cell_type": "markdown",
   "id": "293d678f",
   "metadata": {},
   "source": [
    "Get dummy columns for Category"
   ]
  },
  {
   "cell_type": "code",
   "execution_count": 76,
   "id": "c77a0551",
   "metadata": {},
   "outputs": [],
   "source": [
    "df_category=pd.get_dummies(inp1['Category'], drop_first=True)"
   ]
  },
  {
   "cell_type": "code",
   "execution_count": 77,
   "id": "175d7be6",
   "metadata": {},
   "outputs": [
    {
     "data": {
      "text/plain": [
       "(5954, 32)"
      ]
     },
     "execution_count": 77,
     "metadata": {},
     "output_type": "execute_result"
    }
   ],
   "source": [
    "df_category.shape"
   ]
  },
  {
   "cell_type": "code",
   "execution_count": 78,
   "id": "a8b258c9",
   "metadata": {},
   "outputs": [
    {
     "data": {
      "text/plain": [
       "33"
      ]
     },
     "execution_count": 78,
     "metadata": {},
     "output_type": "execute_result"
    }
   ],
   "source": [
    "inp1['Category'].nunique()"
   ]
  },
  {
   "cell_type": "markdown",
   "id": "459b28ca",
   "metadata": {},
   "source": [
    "Get dummy columns for Genres"
   ]
  },
  {
   "cell_type": "code",
   "execution_count": 79,
   "id": "809fd854",
   "metadata": {},
   "outputs": [
    {
     "data": {
      "text/plain": [
       "(5954, 105)"
      ]
     },
     "execution_count": 79,
     "metadata": {},
     "output_type": "execute_result"
    }
   ],
   "source": [
    "df_genres=pd.get_dummies(inp1['Genres'], drop_first=True)\n",
    "df_genres.shape"
   ]
  },
  {
   "cell_type": "code",
   "execution_count": 80,
   "id": "3b7dbb25",
   "metadata": {},
   "outputs": [
    {
     "data": {
      "text/plain": [
       "106"
      ]
     },
     "execution_count": 80,
     "metadata": {},
     "output_type": "execute_result"
    }
   ],
   "source": [
    "inp1['Genres'].nunique()"
   ]
  },
  {
   "cell_type": "markdown",
   "id": "e32a9261",
   "metadata": {},
   "source": [
    "Get dummy columns for Content Rating"
   ]
  },
  {
   "cell_type": "code",
   "execution_count": 81,
   "id": "adeaf8d0",
   "metadata": {},
   "outputs": [
    {
     "data": {
      "text/plain": [
       "(5954, 5)"
      ]
     },
     "execution_count": 81,
     "metadata": {},
     "output_type": "execute_result"
    }
   ],
   "source": [
    "df_CR=pd.get_dummies(inp1['Content Rating'], drop_first=True)\n",
    "df_CR.shape"
   ]
  },
  {
   "cell_type": "code",
   "execution_count": 82,
   "id": "1f43ded1",
   "metadata": {},
   "outputs": [],
   "source": [
    "inp2 = pd.merge(\n",
    "    left=inp1,\n",
    "    right=df_category,\n",
    "    left_index=True,\n",
    "    right_index=True,\n",
    ")"
   ]
  },
  {
   "cell_type": "code",
   "execution_count": 83,
   "id": "20ee8bad",
   "metadata": {},
   "outputs": [
    {
     "data": {
      "text/plain": [
       "(5954, 41)"
      ]
     },
     "execution_count": 83,
     "metadata": {},
     "output_type": "execute_result"
    }
   ],
   "source": [
    "inp2.shape"
   ]
  },
  {
   "cell_type": "code",
   "execution_count": 84,
   "id": "62e8e954",
   "metadata": {},
   "outputs": [],
   "source": [
    "inp2 = pd.merge(\n",
    "    left=inp2,\n",
    "    right=df_genres,\n",
    "    left_index=True,\n",
    "    right_index=True,\n",
    ")"
   ]
  },
  {
   "cell_type": "code",
   "execution_count": 85,
   "id": "4e7129fc",
   "metadata": {},
   "outputs": [
    {
     "data": {
      "text/plain": [
       "(5954, 146)"
      ]
     },
     "execution_count": 85,
     "metadata": {},
     "output_type": "execute_result"
    }
   ],
   "source": [
    "inp2.shape"
   ]
  },
  {
   "cell_type": "code",
   "execution_count": 86,
   "id": "ad4ed326",
   "metadata": {},
   "outputs": [],
   "source": [
    "inp2 = pd.merge(\n",
    "    left=inp2,\n",
    "    right=df_CR,\n",
    "    left_index=True,\n",
    "    right_index=True,\n",
    ")"
   ]
  },
  {
   "cell_type": "code",
   "execution_count": 87,
   "id": "2e184716",
   "metadata": {},
   "outputs": [
    {
     "data": {
      "text/plain": [
       "(5954, 151)"
      ]
     },
     "execution_count": 87,
     "metadata": {},
     "output_type": "execute_result"
    }
   ],
   "source": [
    "inp2.shape"
   ]
  },
  {
   "cell_type": "code",
   "execution_count": 88,
   "id": "92b7f08e",
   "metadata": {},
   "outputs": [],
   "source": [
    "inp2=inp2.drop(['Category', 'Type', 'Genres', 'Content Rating'], axis=1)"
   ]
  },
  {
   "cell_type": "markdown",
   "id": "5df088bf",
   "metadata": {},
   "source": [
    "9. Imported Train test split and applied 70-30 split. Named the new dataframes df_train and df_test."
   ]
  },
  {
   "cell_type": "code",
   "execution_count": 89,
   "id": "e983ba0d",
   "metadata": {},
   "outputs": [],
   "source": [
    "import sklearn\n",
    "from sklearn.model_selection import train_test_split"
   ]
  },
  {
   "cell_type": "code",
   "execution_count": 90,
   "id": "03544bce",
   "metadata": {},
   "outputs": [],
   "source": [
    "# df_train,df_test=train_test_split(inp2, test_size=0.3)\n",
    "X_train, X_test, y_train, y_test = train_test_split(inp2.drop(['Rating'],axis=1),\n",
    "                                                    inp2['Rating'], test_size = 0.30)"
   ]
  },
  {
   "cell_type": "code",
   "execution_count": 91,
   "id": "cda69397",
   "metadata": {},
   "outputs": [
    {
     "name": "stdout",
     "output_type": "stream",
     "text": [
      "(4167, 146) (4167,)\n",
      "(1787, 146) (1787,)\n"
     ]
    }
   ],
   "source": [
    "print(X_train.shape, y_train.shape)\n",
    "print(X_test.shape, y_test.shape)"
   ]
  },
  {
   "cell_type": "markdown",
   "id": "a9c89c20",
   "metadata": {},
   "source": [
    "11. Model building\n",
    "\n",
    "    Used linear regression as the technique\n",
    "\n",
    "    Reported the R2 on the train set"
   ]
  },
  {
   "cell_type": "code",
   "execution_count": 95,
   "id": "5d8a06f0",
   "metadata": {},
   "outputs": [],
   "source": [
    "from sklearn.linear_model import LinearRegression\n",
    "lm=LinearRegression()"
   ]
  },
  {
   "cell_type": "code",
   "execution_count": 96,
   "id": "e88a3389",
   "metadata": {},
   "outputs": [
    {
     "data": {
      "text/html": [
       "<style>#sk-container-id-1 {color: black;background-color: white;}#sk-container-id-1 pre{padding: 0;}#sk-container-id-1 div.sk-toggleable {background-color: white;}#sk-container-id-1 label.sk-toggleable__label {cursor: pointer;display: block;width: 100%;margin-bottom: 0;padding: 0.3em;box-sizing: border-box;text-align: center;}#sk-container-id-1 label.sk-toggleable__label-arrow:before {content: \"▸\";float: left;margin-right: 0.25em;color: #696969;}#sk-container-id-1 label.sk-toggleable__label-arrow:hover:before {color: black;}#sk-container-id-1 div.sk-estimator:hover label.sk-toggleable__label-arrow:before {color: black;}#sk-container-id-1 div.sk-toggleable__content {max-height: 0;max-width: 0;overflow: hidden;text-align: left;background-color: #f0f8ff;}#sk-container-id-1 div.sk-toggleable__content pre {margin: 0.2em;color: black;border-radius: 0.25em;background-color: #f0f8ff;}#sk-container-id-1 input.sk-toggleable__control:checked~div.sk-toggleable__content {max-height: 200px;max-width: 100%;overflow: auto;}#sk-container-id-1 input.sk-toggleable__control:checked~label.sk-toggleable__label-arrow:before {content: \"▾\";}#sk-container-id-1 div.sk-estimator input.sk-toggleable__control:checked~label.sk-toggleable__label {background-color: #d4ebff;}#sk-container-id-1 div.sk-label input.sk-toggleable__control:checked~label.sk-toggleable__label {background-color: #d4ebff;}#sk-container-id-1 input.sk-hidden--visually {border: 0;clip: rect(1px 1px 1px 1px);clip: rect(1px, 1px, 1px, 1px);height: 1px;margin: -1px;overflow: hidden;padding: 0;position: absolute;width: 1px;}#sk-container-id-1 div.sk-estimator {font-family: monospace;background-color: #f0f8ff;border: 1px dotted black;border-radius: 0.25em;box-sizing: border-box;margin-bottom: 0.5em;}#sk-container-id-1 div.sk-estimator:hover {background-color: #d4ebff;}#sk-container-id-1 div.sk-parallel-item::after {content: \"\";width: 100%;border-bottom: 1px solid gray;flex-grow: 1;}#sk-container-id-1 div.sk-label:hover label.sk-toggleable__label {background-color: #d4ebff;}#sk-container-id-1 div.sk-serial::before {content: \"\";position: absolute;border-left: 1px solid gray;box-sizing: border-box;top: 0;bottom: 0;left: 50%;z-index: 0;}#sk-container-id-1 div.sk-serial {display: flex;flex-direction: column;align-items: center;background-color: white;padding-right: 0.2em;padding-left: 0.2em;position: relative;}#sk-container-id-1 div.sk-item {position: relative;z-index: 1;}#sk-container-id-1 div.sk-parallel {display: flex;align-items: stretch;justify-content: center;background-color: white;position: relative;}#sk-container-id-1 div.sk-item::before, #sk-container-id-1 div.sk-parallel-item::before {content: \"\";position: absolute;border-left: 1px solid gray;box-sizing: border-box;top: 0;bottom: 0;left: 50%;z-index: -1;}#sk-container-id-1 div.sk-parallel-item {display: flex;flex-direction: column;z-index: 1;position: relative;background-color: white;}#sk-container-id-1 div.sk-parallel-item:first-child::after {align-self: flex-end;width: 50%;}#sk-container-id-1 div.sk-parallel-item:last-child::after {align-self: flex-start;width: 50%;}#sk-container-id-1 div.sk-parallel-item:only-child::after {width: 0;}#sk-container-id-1 div.sk-dashed-wrapped {border: 1px dashed gray;margin: 0 0.4em 0.5em 0.4em;box-sizing: border-box;padding-bottom: 0.4em;background-color: white;}#sk-container-id-1 div.sk-label label {font-family: monospace;font-weight: bold;display: inline-block;line-height: 1.2em;}#sk-container-id-1 div.sk-label-container {text-align: center;}#sk-container-id-1 div.sk-container {/* jupyter's `normalize.less` sets `[hidden] { display: none; }` but bootstrap.min.css set `[hidden] { display: none !important; }` so we also need the `!important` here to be able to override the default hidden behavior on the sphinx rendered scikit-learn.org. See: https://github.com/scikit-learn/scikit-learn/issues/21755 */display: inline-block !important;position: relative;}#sk-container-id-1 div.sk-text-repr-fallback {display: none;}</style><div id=\"sk-container-id-1\" class=\"sk-top-container\"><div class=\"sk-text-repr-fallback\"><pre>LinearRegression()</pre><b>In a Jupyter environment, please rerun this cell to show the HTML representation or trust the notebook. <br />On GitHub, the HTML representation is unable to render, please try loading this page with nbviewer.org.</b></div><div class=\"sk-container\" hidden><div class=\"sk-item\"><div class=\"sk-estimator sk-toggleable\"><input class=\"sk-toggleable__control sk-hidden--visually\" id=\"sk-estimator-id-1\" type=\"checkbox\" checked><label for=\"sk-estimator-id-1\" class=\"sk-toggleable__label sk-toggleable__label-arrow\">LinearRegression</label><div class=\"sk-toggleable__content\"><pre>LinearRegression()</pre></div></div></div></div></div>"
      ],
      "text/plain": [
       "LinearRegression()"
      ]
     },
     "execution_count": 96,
     "metadata": {},
     "output_type": "execute_result"
    }
   ],
   "source": [
    "lm.fit(X_train, y_train)"
   ]
  },
  {
   "cell_type": "code",
   "execution_count": 97,
   "id": "058e34e3",
   "metadata": {},
   "outputs": [
    {
     "data": {
      "text/plain": [
       "array([3.58476906, 4.48613589, 4.15138046, ..., 4.20434833, 4.52213581,\n",
       "       4.06918689])"
      ]
     },
     "execution_count": 97,
     "metadata": {},
     "output_type": "execute_result"
    }
   ],
   "source": [
    "y_predicted_train=lm.predict(X_train)\n",
    "y_predicted_train"
   ]
  },
  {
   "cell_type": "code",
   "execution_count": 98,
   "id": "b6c20676",
   "metadata": {},
   "outputs": [
    {
     "data": {
      "text/plain": [
       "0.15050168931442265"
      ]
     },
     "execution_count": 98,
     "metadata": {},
     "output_type": "execute_result"
    }
   ],
   "source": [
    "# r-squared : gives goodness of fit \n",
    "lm.score(X_train, y_train)"
   ]
  },
  {
   "cell_type": "markdown",
   "id": "4349059c",
   "metadata": {},
   "source": [
    "\n",
    "12. Make predictions on test set and report R2."
   ]
  },
  {
   "cell_type": "code",
   "execution_count": 99,
   "id": "c6cb970f",
   "metadata": {},
   "outputs": [],
   "source": [
    "y_predicted_test=lm.predict(X_test)"
   ]
  },
  {
   "cell_type": "code",
   "execution_count": 100,
   "id": "0f017701",
   "metadata": {},
   "outputs": [
    {
     "data": {
      "text/plain": [
       "0.0776541366213167"
      ]
     },
     "execution_count": 100,
     "metadata": {},
     "output_type": "execute_result"
    }
   ],
   "source": [
    "lm.score(X_test, y_test)"
   ]
  },
  {
   "cell_type": "code",
   "execution_count": 101,
   "id": "d841ff18",
   "metadata": {},
   "outputs": [],
   "source": [
    "# RMSE : Root mean Squared Error \n",
    "from sklearn.metrics import mean_squared_error as mse"
   ]
  },
  {
   "cell_type": "code",
   "execution_count": 4,
   "id": "d1652a5d",
   "metadata": {},
   "outputs": [],
   "source": [
    "# Built a dataframe with both actual and predicted values of test dataset"
   ]
  },
  {
   "cell_type": "code",
   "execution_count": 5,
   "id": "a1fbd026",
   "metadata": {},
   "outputs": [
    {
     "ename": "NameError",
     "evalue": "name 'pd' is not defined",
     "output_type": "error",
     "traceback": [
      "\u001b[1;31m---------------------------------------------------------------------------\u001b[0m",
      "\u001b[1;31mNameError\u001b[0m                                 Traceback (most recent call last)",
      "Input \u001b[1;32mIn [5]\u001b[0m, in \u001b[0;36m<cell line: 1>\u001b[1;34m()\u001b[0m\n\u001b[1;32m----> 1\u001b[0m y_predicted_test\u001b[38;5;241m=\u001b[39m\u001b[43mpd\u001b[49m\u001b[38;5;241m.\u001b[39mDataFrame(y_predicted_test)\n",
      "\u001b[1;31mNameError\u001b[0m: name 'pd' is not defined"
     ]
    }
   ],
   "source": [
    "y_predicted_test=pd.DataFrame(y_predicted_test);"
   ]
  },
  {
   "cell_type": "code",
   "execution_count": 107,
   "id": "cc1721e3",
   "metadata": {},
   "outputs": [
    {
     "name": "stdout",
     "output_type": "stream",
     "text": [
      "Root Mean Square Error for train dataset 0.5555845789913566\n",
      "Root Mean Square Error for test dataset 0.550780653248092\n"
     ]
    }
   ],
   "source": [
    "print('Root Mean Square Error for train dataset',mse(y_true=y_train,y_pred=y_predicted_train,squared=False))\n",
    "print('Root Mean Square Error for test dataset',mse(y_true=y_test,y_pred=y_predicted_test,squared=False))"
   ]
  }
 ],
 "metadata": {
  "kernelspec": {
   "display_name": "Python 3 (ipykernel)",
   "language": "python",
   "name": "python3"
  },
  "language_info": {
   "codemirror_mode": {
    "name": "ipython",
    "version": 3
   },
   "file_extension": ".py",
   "mimetype": "text/x-python",
   "name": "python",
   "nbconvert_exporter": "python",
   "pygments_lexer": "ipython3",
   "version": "3.10.4"
  }
 },
 "nbformat": 4,
 "nbformat_minor": 5
}
